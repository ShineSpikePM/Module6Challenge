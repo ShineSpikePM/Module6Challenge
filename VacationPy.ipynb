{
 "cells": [
  {
   "cell_type": "markdown",
   "metadata": {},
   "source": [
    "# VacationPy\n",
    "---\n",
    "\n",
    "## Starter Code to Import Libraries and Load the Weather and Coordinates Data"
   ]
  },
  {
   "cell_type": "code",
   "execution_count": 7,
   "metadata": {},
   "outputs": [],
   "source": [
    "# Dependencies and Setup\n",
    "import hvplot.pandas\n",
    "import pandas as pd\n",
    "import requests\n",
    "\n",
    "# Import API key\n",
    "from api_keys import geoapify_key"
   ]
  },
  {
   "cell_type": "code",
   "execution_count": 8,
   "metadata": {},
   "outputs": [
    {
     "data": {
      "text/html": [
       "<div>\n",
       "<style scoped>\n",
       "    .dataframe tbody tr th:only-of-type {\n",
       "        vertical-align: middle;\n",
       "    }\n",
       "\n",
       "    .dataframe tbody tr th {\n",
       "        vertical-align: top;\n",
       "    }\n",
       "\n",
       "    .dataframe thead th {\n",
       "        text-align: right;\n",
       "    }\n",
       "</style>\n",
       "<table border=\"1\" class=\"dataframe\">\n",
       "  <thead>\n",
       "    <tr style=\"text-align: right;\">\n",
       "      <th></th>\n",
       "      <th>City_ID</th>\n",
       "      <th>City</th>\n",
       "      <th>Lat</th>\n",
       "      <th>Lng</th>\n",
       "      <th>Max Temp</th>\n",
       "      <th>Humidity</th>\n",
       "      <th>Cloudiness</th>\n",
       "      <th>Wind Speed</th>\n",
       "      <th>Country</th>\n",
       "      <th>Date</th>\n",
       "    </tr>\n",
       "  </thead>\n",
       "  <tbody>\n",
       "    <tr>\n",
       "      <th>0</th>\n",
       "      <td>0</td>\n",
       "      <td>tiksi</td>\n",
       "      <td>71.6872</td>\n",
       "      <td>128.8694</td>\n",
       "      <td>-17.82</td>\n",
       "      <td>99</td>\n",
       "      <td>100</td>\n",
       "      <td>9.40</td>\n",
       "      <td>RU</td>\n",
       "      <td>1701643034</td>\n",
       "    </tr>\n",
       "    <tr>\n",
       "      <th>1</th>\n",
       "      <td>1</td>\n",
       "      <td>kabale</td>\n",
       "      <td>-1.2486</td>\n",
       "      <td>29.9899</td>\n",
       "      <td>57.43</td>\n",
       "      <td>92</td>\n",
       "      <td>80</td>\n",
       "      <td>2.89</td>\n",
       "      <td>UG</td>\n",
       "      <td>1701643035</td>\n",
       "    </tr>\n",
       "    <tr>\n",
       "      <th>2</th>\n",
       "      <td>2</td>\n",
       "      <td>cova figueira</td>\n",
       "      <td>14.8905</td>\n",
       "      <td>-24.2934</td>\n",
       "      <td>72.61</td>\n",
       "      <td>79</td>\n",
       "      <td>56</td>\n",
       "      <td>14.67</td>\n",
       "      <td>CV</td>\n",
       "      <td>1701643036</td>\n",
       "    </tr>\n",
       "    <tr>\n",
       "      <th>3</th>\n",
       "      <td>3</td>\n",
       "      <td>avarua</td>\n",
       "      <td>-21.2078</td>\n",
       "      <td>-159.7750</td>\n",
       "      <td>78.85</td>\n",
       "      <td>73</td>\n",
       "      <td>75</td>\n",
       "      <td>16.11</td>\n",
       "      <td>CK</td>\n",
       "      <td>1701643038</td>\n",
       "    </tr>\n",
       "    <tr>\n",
       "      <th>4</th>\n",
       "      <td>4</td>\n",
       "      <td>invercargill</td>\n",
       "      <td>-46.4000</td>\n",
       "      <td>168.3500</td>\n",
       "      <td>52.68</td>\n",
       "      <td>51</td>\n",
       "      <td>78</td>\n",
       "      <td>9.64</td>\n",
       "      <td>NZ</td>\n",
       "      <td>1701643039</td>\n",
       "    </tr>\n",
       "  </tbody>\n",
       "</table>\n",
       "</div>"
      ],
      "text/plain": [
       "   City_ID           City      Lat       Lng  Max Temp  Humidity  Cloudiness  \\\n",
       "0        0          tiksi  71.6872  128.8694    -17.82        99         100   \n",
       "1        1         kabale  -1.2486   29.9899     57.43        92          80   \n",
       "2        2  cova figueira  14.8905  -24.2934     72.61        79          56   \n",
       "3        3         avarua -21.2078 -159.7750     78.85        73          75   \n",
       "4        4   invercargill -46.4000  168.3500     52.68        51          78   \n",
       "\n",
       "   Wind Speed Country        Date  \n",
       "0        9.40      RU  1701643034  \n",
       "1        2.89      UG  1701643035  \n",
       "2       14.67      CV  1701643036  \n",
       "3       16.11      CK  1701643038  \n",
       "4        9.64      NZ  1701643039  "
      ]
     },
     "execution_count": 8,
     "metadata": {},
     "output_type": "execute_result"
    }
   ],
   "source": [
    "# Load the CSV file created in Part 1 into a Pandas DataFrame\n",
    "city_data_df = pd.read_csv(\"../output_data/cities.csv\")\n",
    "\n",
    "# Display sample data\n",
    "city_data_df.head()"
   ]
  },
  {
   "cell_type": "markdown",
   "metadata": {},
   "source": [
    "---\n",
    "\n",
    "### Step 1: Create a map that displays a point for every city in the `city_data_df` DataFrame. The size of the point should be the humidity in each city."
   ]
  },
  {
   "cell_type": "code",
   "execution_count": 6,
   "metadata": {},
   "outputs": [
    {
     "name": "stderr",
     "output_type": "stream",
     "text": [
      "E:\\Anaconda2\\Lib\\site-packages\\paramiko\\transport.py:219: CryptographyDeprecationWarning: Blowfish has been deprecated\n",
      "  \"class\": algorithms.Blowfish,\n",
      "WARNING:param.main: titles option not found for points plot with bokeh; similar options include: ['title', 'tiles']\n"
     ]
    },
    {
     "data": {},
     "metadata": {},
     "output_type": "display_data"
    },
    {
     "data": {
      "application/vnd.holoviews_exec.v0+json": "",
      "text/html": [
       "<div id='p1005'>\n",
       "  <div id=\"ad8d2ea8-7fe4-4e77-802f-9bf8c63ceec8\" data-root-id=\"p1005\" style=\"display: contents;\"></div>\n",
       "</div>\n",
       "<script type=\"application/javascript\">(function(root) {\n",
       "  var docs_json = {\"9da7ebab-9c38-4b58-8fcb-9398051cb730\":{\"version\":\"3.2.1\",\"title\":\"Bokeh Application\",\"roots\":[{\"type\":\"object\",\"name\":\"Row\",\"id\":\"p1005\",\"attributes\":{\"name\":\"Row01575\",\"tags\":[\"embedded\"],\"stylesheets\":[\"\\n:host(.pn-loading.pn-arc):before, .pn-loading.pn-arc:before {\\n  background-image: url(\\\"data:image/svg+xml;base64,PHN2ZyB4bWxucz0iaHR0cDovL3d3dy53My5vcmcvMjAwMC9zdmciIHN0eWxlPSJtYXJnaW46IGF1dG87IGJhY2tncm91bmQ6IG5vbmU7IGRpc3BsYXk6IGJsb2NrOyBzaGFwZS1yZW5kZXJpbmc6IGF1dG87IiB2aWV3Qm94PSIwIDAgMTAwIDEwMCIgcHJlc2VydmVBc3BlY3RSYXRpbz0ieE1pZFlNaWQiPiAgPGNpcmNsZSBjeD0iNTAiIGN5PSI1MCIgZmlsbD0ibm9uZSIgc3Ryb2tlPSIjYzNjM2MzIiBzdHJva2Utd2lkdGg9IjEwIiByPSIzNSIgc3Ryb2tlLWRhc2hhcnJheT0iMTY0LjkzMzYxNDMxMzQ2NDE1IDU2Ljk3Nzg3MTQzNzgyMTM4Ij4gICAgPGFuaW1hdGVUcmFuc2Zvcm0gYXR0cmlidXRlTmFtZT0idHJhbnNmb3JtIiB0eXBlPSJyb3RhdGUiIHJlcGVhdENvdW50PSJpbmRlZmluaXRlIiBkdXI9IjFzIiB2YWx1ZXM9IjAgNTAgNTA7MzYwIDUwIDUwIiBrZXlUaW1lcz0iMDsxIj48L2FuaW1hdGVUcmFuc2Zvcm0+ICA8L2NpcmNsZT48L3N2Zz4=\\\");\\n  background-size: auto calc(min(50%, 400px));\\n}\",{\"type\":\"object\",\"name\":\"ImportedStyleSheet\",\"id\":\"p1008\",\"attributes\":{\"url\":\"https://cdn.holoviz.org/panel/1.2.3/dist/css/loading.css\"}},{\"type\":\"object\",\"name\":\"ImportedStyleSheet\",\"id\":\"p1072\",\"attributes\":{\"url\":\"https://cdn.holoviz.org/panel/1.2.3/dist/css/listpanel.css\"}},{\"type\":\"object\",\"name\":\"ImportedStyleSheet\",\"id\":\"p1006\",\"attributes\":{\"url\":\"https://cdn.holoviz.org/panel/1.2.3/dist/bundled/theme/default.css\"}},{\"type\":\"object\",\"name\":\"ImportedStyleSheet\",\"id\":\"p1007\",\"attributes\":{\"url\":\"https://cdn.holoviz.org/panel/1.2.3/dist/bundled/theme/native.css\"}}],\"margin\":0,\"sizing_mode\":\"stretch_width\",\"align\":\"start\",\"children\":[{\"type\":\"object\",\"name\":\"Spacer\",\"id\":\"p1009\",\"attributes\":{\"name\":\"HSpacer01586\",\"stylesheets\":[\"\\n:host(.pn-loading.pn-arc):before, .pn-loading.pn-arc:before {\\n  background-image: url(\\\"data:image/svg+xml;base64,PHN2ZyB4bWxucz0iaHR0cDovL3d3dy53My5vcmcvMjAwMC9zdmciIHN0eWxlPSJtYXJnaW46IGF1dG87IGJhY2tncm91bmQ6IG5vbmU7IGRpc3BsYXk6IGJsb2NrOyBzaGFwZS1yZW5kZXJpbmc6IGF1dG87IiB2aWV3Qm94PSIwIDAgMTAwIDEwMCIgcHJlc2VydmVBc3BlY3RSYXRpbz0ieE1pZFlNaWQiPiAgPGNpcmNsZSBjeD0iNTAiIGN5PSI1MCIgZmlsbD0ibm9uZSIgc3Ryb2tlPSIjYzNjM2MzIiBzdHJva2Utd2lkdGg9IjEwIiByPSIzNSIgc3Ryb2tlLWRhc2hhcnJheT0iMTY0LjkzMzYxNDMxMzQ2NDE1IDU2Ljk3Nzg3MTQzNzgyMTM4Ij4gICAgPGFuaW1hdGVUcmFuc2Zvcm0gYXR0cmlidXRlTmFtZT0idHJhbnNmb3JtIiB0eXBlPSJyb3RhdGUiIHJlcGVhdENvdW50PSJpbmRlZmluaXRlIiBkdXI9IjFzIiB2YWx1ZXM9IjAgNTAgNTA7MzYwIDUwIDUwIiBrZXlUaW1lcz0iMDsxIj48L2FuaW1hdGVUcmFuc2Zvcm0+ICA8L2NpcmNsZT48L3N2Zz4=\\\");\\n  background-size: auto calc(min(50%, 400px));\\n}\",{\"id\":\"p1008\"},{\"id\":\"p1006\"},{\"id\":\"p1007\"}],\"margin\":0,\"sizing_mode\":\"stretch_width\",\"align\":\"start\"}},{\"type\":\"object\",\"name\":\"Figure\",\"id\":\"p1021\",\"attributes\":{\"width\":null,\"height\":null,\"margin\":[5,10],\"sizing_mode\":\"fixed\",\"align\":\"start\",\"x_range\":{\"type\":\"object\",\"name\":\"Range1d\",\"id\":\"p1013\",\"attributes\":{\"tags\":[[[\"Lng\",\"Lng\",null]],[]],\"start\":-27124303.344949707,\"end\":27124303.344949707,\"reset_start\":-27124303.344949707,\"reset_end\":27124303.344949707,\"min_interval\":5}},\"y_range\":{\"type\":\"object\",\"name\":\"Range1d\",\"id\":\"p1014\",\"attributes\":{\"tags\":[[[\"Lat\",\"Lat\",null]],{\"type\":\"map\",\"entries\":[[\"invert_yaxis\",false],[\"autorange\",false]]}],\"start\":-10477332.920279177,\"end\":20037508.342789248,\"reset_start\":-10477332.920279177,\"reset_end\":20037508.342789248,\"min_interval\":5}},\"x_scale\":{\"type\":\"object\",\"name\":\"LinearScale\",\"id\":\"p1031\"},\"y_scale\":{\"type\":\"object\",\"name\":\"LinearScale\",\"id\":\"p1032\"},\"title\":{\"type\":\"object\",\"name\":\"Title\",\"id\":\"p1024\",\"attributes\":{\"text_color\":\"black\",\"text_font_size\":\"12pt\"}},\"renderers\":[{\"type\":\"object\",\"name\":\"GlyphRenderer\",\"id\":\"p1058\",\"attributes\":{\"name\":\"color\",\"data_source\":{\"type\":\"object\",\"name\":\"ColumnDataSource\",\"id\":\"p1047\",\"attributes\":{\"selected\":{\"type\":\"object\",\"name\":\"Selection\",\"id\":\"p1048\",\"attributes\":{\"indices\":[],\"line_indices\":[]}},\"selection_policy\":{\"type\":\"object\",\"name\":\"UnionRenderers\",\"id\":\"p1049\"},\"data\":{\"type\":\"map\",\"entries\":[[\"Lng\",{\"type\":\"ndarray\",\"array\":{\"type\":\"bytes\",\"data\":\"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\"},\"shape\":[532],\"dtype\":\"float64\",\"order\":\"little\"}],[\"Lat\",{\"type\":\"ndarray\",\"array\":{\"type\":\"bytes\",\"data\":\"1M91v0s0ZkEFTY8m5PcAwa1tGOEnlTlBxL0A6xBwQsHrs3e2sktWwdOT8r2goWtB4kaS+PzMMcEFzzoqi35AweHeCigUXEdBGeNkFOf6Q0HViw1akYtMQe+YRKMDOUNBo3SiF4myZUHIpnCw6GNdQYlz306TGjbBSEMXOnCiZEHnCiBjRfhQwWdznEbhdWJBPncTY6G/UUHEAPW8KjVYQSdSPS58VFNBSHzTxf4pWMFlNKWO4KM8weI/73nyG1BB8XXzxICrWkGXfDRBUtJUwTjEDkQXk1TBU7xhtYYARsEHx6+tJbFjQcC+sjUcBD9B31ugwqcMRMGgl+Nt3RxhQa9Ulu44CFRB7JGT0iCPPkHjMUtSWyhCQWzYbNf1OWJBwfXWgkWOW8EV1SydI1RgQcPGNtDyGmFBAoatTJUzYkFfDye/NqtCQa4onOCsNVVB/27qmCTXGcGj3X3zg+lbQSV8KQ8X9VRBG3nHhKgvY0F9jQBzkaBjQcUlDUzeGVFBcjw5e08OQcEbo1FeQqdOwcr7Tvvk70tBUdcmzX0oZUHNMiY+6H1PwX46bpAXwFnBSmiQy6IENcFNoJGQcoo5QXuahDCn1krB+n34mrSwUUF68ynYRHhSQaMyZ4hXwkRB7ijZ9Vg1VEHZLeBR7/I7wZBY2qKC71vBvUqsEYe2YUG/GGcLP7NeQa6E5dhYCWJBN5GJIhkKVMFlKIXl/2RPQaMAdyKZIC3BVTsI75c2WUFipIGIzBf0wKzuGb4whmNBjsFhLMezQ0EBFWwcpa9OwSoA9L+Q3FRBMwCFJHmfNUEbcOimypRbQdpepGhY/FtBA5UApYIBRkHLOH7r1VRUwYV1JHdmRTxBBSk9pSb1XkGGXoTkrVVkQdcuGqnESE/BJUvWtPjdVEGvOPkQ3jEzQeaU9cXeIy7B9kIPgfThLcGFhEwAIX9EQTLx7xrYUAzBjK7qAmZCREGSm9EMshxSQUaqWfC5Vz1BXnvzTkaMMUG5//R6tp9kQVFcrxLs1WFBv/1QaQxEUEF4UqTD1hBQwWdz4tDAzldBYUW87mDoSsH83ZOG9EVUwWh9pttX6VhBIKDnLOdLVkGj+nO/WkNRwaygORhj8lBBC47qqyh1OEGhOA/IkSxCwaPU6Ax6vlrBeGFMkF5TUUGFE+2qSuJJQT3qG3BLpWNBoUwx5jC/TMHPIuIzAfVjQVRg5RA2t1RBj/IrnbZ8SMEBGaYLvzhGwW58Nus2I1TBX+gYX39NQsHdlfK2WjkywbIoy4LI4GJB1oHHeGbONMFeArruIsEdQZhHL/lBZVbBUwbHuNWwX0GLTnsWXyVMwas7elvfTCrB3jSmKji+U0GMN1ckGeccQdGZRAE5CEnBZGLbrBTVQsFGM4Fkyks7wX73GVgBBl1B80HNBTu5IEGigUiqXzZMQTYonWRpNE1Bb5ToewBMK8EYwjFX4WdPwW85wPMat2FB1/kIXdUqT8F3FcET/fo5Qbn2pdgfYVHB9vHeMyavSsGze26E8B9iQYW+N3QAv2NB2XkKtCh7MMF6AfRTgXhdQRDRsK05HExBfY0Ac5GgY0GuLKWvjZ0+wXX3QOJ0STVBDNz0BAtpIkF7k5Anu5VSQWaHFZu75FdBYdDj8o39VkHTJ/dCMklVQTvzuWA5TUpBN9CPHfOkPsEJ4A9soyBaQUfQW9jge1TBPRJQsuzVP0EBTfh85mYzQf8BEYT9qTVBPoD+kpCjXEHfTvVE/uBMwegXuNH9jGFBv6aWcc0zYUEHv4mi1s1IQaJMdNS2+UpBVPjnA+b6OcFpCu860+xOwR8IQWzF3FpBxNsXMukEREF8o0T5OPFgQTdaU/8l+FBBTq1a1yuLScGG6vPsBgdHQaHlakagcl1BoiDspI5O8MAH6Jc7kDlUQXZtqU1qc0VBjNNvp5M+OkEHz1fyT6tEQSYpPkfjyExBkCW+z4r0U8E77jyMhV5LQYzdHYF9LdvAUh94ZpsfQkF1rX9igelPQasEsij7H1pBZQdUvyguYEH5KzcdP4RZQax9K5TMAijBKx9QuPJaU0E5YVIeThxiQQ7/nmcxflpBuvnqASzRVUFjTNDshF1gQZtdYtLs2jbBngQtqlf4RcG3Q8/XwMdKQYggVp/sfjfBYynG5IPoTsHM34zk8zEkQVEe3OM5lCZBDkDC/xqpFsEAUG9Fr5dNQd7Fnkq60EXBCkw2nihjVEFxijO8BsxkQd5w58PvzGBBc+iSyZT5WUH783Q/O9JiQUrzZwmA2xBB6fn3lHFsOUFqEQi/NKpYQVMxd+fKYilBrw8wsAEMJMHNEbBD+ptMwQKt/FiKAF5BepgfhJhIQ8FAsjXg1MhQQZd7SrqI+UBBzqXoPZISWUH17mTk/q4XQc81kmDTDmNBiAfkDmAkQ0ERQe6Y9JxRwTpc+2ITPSxBK6cAOnSJIUFJxRjxl/QzQdaURvKZk1JBvQFY/nQDOkFQSCQjVQVXQW1DwuYfokxBC2F/O+b1MsFmRCxnzRU/QZaxgE8caD5BmsXFccjlN0HYfMPEVwBBQT/xBq8TGTxB+ocPxrtVTMH0phsl9jpDQYaf0K40VGBBmRwWuiQSYEFCbY3jihhVQSdhaED/0DfBxmyK96A5XkHDRTGhtZM1QQJR8DG8QSNBVYm43FdwXUENvIAWIhAnQRf4iQuk8zZBOcwadwAMUEHIJrpjv45CwVdPkZJ+x1VBh+La3JQBQsFVWKeYpFFOwXrkilw7QWJBYd/7kk7lUkFPKBVgxjcRwYPWjHAxEVtB3y3C3k5sPkFO7eKb0sMQwawdyiIf815Bsba6D5iXR8FMjuXrKeVSQTd4begRsPLAFFp4b+q0YkF7H36HdB1LQeWyLPOCUDBBFZTdTrKkQsFVWHxC9bwFQZWERZbQ61tBVRvxS3ToVUFjTyNJHYkyQdunr5FmqUzBDG8IkgZuOMHZA9vplp5WQUfyo1UwgFpBLLfXwqOZWkHXJThC5540Qcmwrvdl9kzBufal2B9hUcHzTEJs7Vm5wIJJz27PJ01BZt3URZTKTsGjfl1+awdQwUi6QcFPOF9BfpyD/khhW0Gb4SLfLRFVQaE2X8HI51VB3LAeYMIeOsEcy4tLCx4mQeqjD0c6S1JBxjK2U/fNNkHoRjEIfqQpQb3vc2lyBVVB+BJcYdODUEFOYuU+tHVdQVFNYyQmVVpBRh1PBAU0IkF796OZim9QQdeuZ7xoFiLBhgu75tikXUGHP2RcZkI5QX3sSYsYjDvB89TGtUcuYEGDPycxxd1RQcT73mxTqGRBGeHIsS7KBcGb6yaSVwxSwclUxBx3fijBesZ2K9X4OMFTZDFiGiorQW9/IvahQWFBVqCDgRq5WEF9gLq6OLA8QT+GboBbUFPBuPS5LPe/QsHv1Vmoag5ZQSRRgPLn5hJB4KxXrl08NUELoLUhdD5HwcmiHWjRizhBbBdDedoAUkGsCWdslMdBwfiahC4EE2BBrgt3dAb/B8FamQgg02U1wWTIzRXA1FNBJ08e0Rc6RsGhziHKDBNRwYs5MYs5SkrBQVRDcDK4TUH9Ad5ILH8wwaarwcG2vWNBDdzZy+CjQcG7j8ypXCNOwcsHdXeWCBnBzaXSpIjhS0GlMorC5DYwwRj/6RVUYUzBtARfRB79QUETfr4Y+oJQQVi+R5H2q09BVOOciYc6UkEIjXEQ1EgDQRjPPO5AHmNBkIcSY1tGL8HIsij2Sug8QczDsjeCYUNBFissfTx6QUErPfoHzAxEwZG9rWS/SCrBaBpCTancV0GiSLR6+7tNwQ82ZIGEciVBRIUidcItNkGUzENsXnZBQZ/BtT5Y1VhB15F/MQ9jZEE30I8d86Q+waIX1ET6nFPBi66iwqp4LEGnXn/cqPJCQWcc1zC6/0RBsMmae3fzOUFiWJ8/brgjwTiBCTW0mU/BDTyf/VuXWUGC3m7tIfVLQSuoAtfujFNBpDylfpeiVUGSSoQwo+FEwbkI6UTp4C/Boq3dT6GEJ0HbczhCScNQQf9l4jMzyDNBcjb+h5ULA8Ew1IeFaBdRQRcoRgPKskTBhZ0mWut2TkGrI9nl8clDwQW4dEiIv2RBGBI/E58qOEH9dKuB9E43QTpjcpKevU7BC9wWvy3tM0F5cvGVRClBwd2V8rZaOTJB7ui5atM5W0HF0GhykUVWQfBtXzEx31BB6gxmk4uITcFjKcbkg+hOQUPJKpSkPkVB+XzxKGeJXEHSIlP2M9UiQag4XkRIsUpBr8N9q5vwSUFVLiZwmXNNQYeKW3V5SjNBlYnzAf4AREFVgenK/R83QUKtQLmG9VZBkO0M40PCQUEPje4E4SU6wTE+JWdhkCBBVOOdGWMRYkHt4wRIEls7QS+FtnySL0JB55y5zl/SNcGD7TotSkgjQeltHbXslAJBARmmC784RsFnIjONCdY8wZf3jvO7VkdByY/0UP4hW0FDPZ5Gkh0iQRcMwSVOUTDBPRJQsuzVP0Fv61KU87tZQYsG71s8RSlBwo2bownpIkGFc7dZW8o9QbCpZn936j3B+hE0If9kSUG503YHRRZgQTrIbiwpVDFBCa6Cxs6WWkGROREhuRQ3QaWp74ElzUZBwvcSRsTIQ0HUogUF4sNRwYV5K/Jr5WRBJiYSEUpcMcGuYb1/BIZfQRIzgT+NwyvBw1ABCZBZLsF3qCJ6IxZgQZffmr1mDRTBU/7EsQqnUkHqboPGIIdJwYzvDftZ+EdBcYCVjDkVW0Ew1aHta7RfQWGacEchXlZB0BF+6id7T0G1JA3mUc5TQdxvbL6QmTnBnsmDVsvnO0Em7zdF03siQYwAg3d1XU1BlwaoYdgSN8HabP6LnsYVwcMZH+WfCkTBtckNU+vhQ0G1NfechfEpwa/HG7z5mlxBNBHF4YADUUHa8J1dXRUzQRFbGqMs3lxB13q4fgfNYUHl/EFQpeEkwauxdZOTIkRBOZFwb5TZYkGfuj8OKLtQQeXa5BY/tkHBSnWH/GctRUHQvw9N8gjRwKuAfVZ2slNBCORwztLDNsHCh8TaYi1QQQIWoz8/oD5Bd2w4RnWsQcHa7B8R0QRJwY9MjQbufFBBuj6VPC4cWkEakDhWhQlAQTcVjxWxwmJB4VS/uzAOWEFQAkSMCRdZQZvC2QBlwD5B5KLAB+5oRcGyJwRAwzxGQWR6fGrdHlPBoURSHi1KYUGpGqC0sgxGQQ9v+OduV0NBAA0/7kGVW0F+opHOnwUkQRKR6LkyuVlBeByxM6X8UEGkY9I9zeZcQVGKdwltxifBDO+n+D2KXkGvpKH2hYVLQQwTjlOnbUZBAcWG3EVTUEHtalu6mgJCwRn3mGbBK1VBSF5dhESO98DNHxc0I4ocwT4gL9z2w0hBqMDtZqJJYkEVhje66XNOQeBA1SeMevPAINzbU2KdRMEnDmII//oWQcf7ejZOfFpBO264350WSUFY7h63GiRJQe4AgpXLbFNBS9tU71xdUEHmlSsXb7pEwSrqrXYk7GFBQJGaITAQFEFz5JdOhSMUwWSyJJJjfl1BBOJIlpsWWUHiADwkK+JPwUG7ocM/HzNBE23tf/khXEHRPiAp3IYVQd+hoQHedD/Ba4A+b/3nT0GNu5vNs2Q7QU546+KsfWFBLDMMK2PXIsEaAzQUzlBGwWuodF0GWw7BkV1Mte8rQEE=\"},\"shape\":[532],\"dtype\":\"float64\",\"order\":\"little\"}],[\"City\",[\"tiksi\",\"kabale\",\"cova figueira\",\"avarua\",\"invercargill\",\"longyearbyen\",\"flying fish cove\",\"alofi\",\"al artawiyah\",\"cabo san lucas\",\"liberty\",\"wailua homesteads\",\"olonkinbyen\",\"fort mcmurray\",\"boueni\",\"ilulissat\",\"edinburgh of the seven seas\",\"egilsstadir\",\"ribeira grande\",\"kapuskasing\",\"bethel\",\"port-aux-francais\",\"camana\",\"hiratacho\",\"petropavlovsk-kamchatsky\",\"waitangi\",\"christchurch\",\"adamstown\",\"vorgashor\",\"lazaro cardenas\",\"arraial do cabo\",\"alesund\",\"albany\",\"atbara\",\"veraval\",\"badger\",\"grytviken\",\"whitehorse\",\"yellowknife\",\"anadyr\",\"cockburn town\",\"maykop\",\"bengkulu\",\"flin flon\",\"constantia\",\"labytnangi\",\"igarka\",\"newman\",\"port mathurin\",\"port elizabeth\",\"dothan\",\"vadso\",\"port lincoln\",\"puerto natales\",\"antsiranana\",\"nova sintra\",\"woolgoolga\",\"xinzhou\",\"laojunmiao\",\"aizawl\",\"fisterra\",\"antonio enes\",\"ushuaia\",\"iqaluit\",\"boguchany\",\"novodvinsk\",\"chonchi\",\"lompoc\",\"atafu village\",\"colonia\",\"puerto ayora\",\"bodo\",\"howrah\",\"margaret river\",\"abashiri\",\"seven pagodas\",\"prince rupert\",\"stanley\",\"marat\",\"quellon\",\"goundam\",\"parabel'\",\"aasiaat\",\"bredasdorp\",\"yuzhno-kurilsk\",\"utrik\",\"luanda\",\"porto velho\",\"todos santos\",\"sungai penuh\",\"haimen\",\"hamilton\",\"alaghsas\",\"mejit\",\"polyarnyy\",\"keflavik\",\"hasaki\",\"ulladulla\",\"la sarre\",\"cidreira\",\"blackmans bay\",\"hellenthal\",\"volodarskiy\",\"lebu\",\"jiexiu\",\"nguigmi\",\"bady bassitt\",\"punta arenas\",\"ponta delgada\",\"floresville\",\"vorkuta\",\"rio grande\",\"bilibino\",\"pontassieve\",\"fiambala\",\"tsiombe\",\"new norfolk\",\"kone\",\"paramonga\",\"isafjordur\",\"west island\",\"harper\",\"papatowai\",\"ola\",\"port macquarie\",\"trucuk\",\"jamestown\",\"cukai\",\"saladas\",\"sao joao da barra\",\"belmonte\",\"fort st. john\",\"remire-montjoly\",\"nagqu\",\"ghardaia\",\"olinda\",\"cootamundra\",\"vilyuysk\",\"hermanus\",\"quang ngai\",\"mount gambier\",\"coquimbo\",\"lycksele\",\"iskateley\",\"waingapu\",\"zyryanskoye\",\"crane\",\"tazovsky\",\"port-vila\",\"myeik\",\"georgetown\",\"crawfordsville\",\"grand falls-windsor\",\"mount pearl\",\"leognan\",\"leshan\",\"papao\",\"tralee\",\"kaiapoi\",\"road town\",\"enewetak\",\"hadibu\",\"thompson\",\"forster\",\"usogorsk\",\"khandyga\",\"san patricio\",\"burang\",\"nampula\",\"mossel bay\",\"happy valley-goose bay\",\"lashio\",\"berdigestyakh\",\"gargalianoi\",\"richards bay\",\"shuangjiang\",\"revda\",\"hithadhoo\",\"turpan\",\"kawm umbu\",\"puerto lempira\",\"jianshui\",\"sangin\",\"greymouth\",\"shadegan\",\"santo domingo de los colorados\",\"teknaf\",\"fort bragg\",\"klyuchi\",\"severo-yeniseyskiy\",\"margate\",\"kalianget\",\"duragan\",\"ust-nera\",\"tashtyp\",\"bourg-saint-maurice\",\"uusikaupunki\",\"calca\",\"tolanaro\",\"kangding\",\"pisco\",\"castillos\",\"bouar\",\"tibanbang\",\"amahai\",\"tripoli\",\"carnarvon\",\"roma\",\"talnakh\",\"petrozavodsk\",\"cill airne\",\"kuusamo\",\"sinabang\",\"attapeu\",\"merritt\",\"weno\",\"jaguaribe\",\"queenstown\",\"tevriz\",\"manakara\",\"pachino\",\"hawaiian paradise park\",\"island harbour\",\"pekan\",\"udachny\",\"lihue\",\"codrington\",\"puerto armuelles\",\"kourou\",\"port blair\",\"langtoucun\",\"saipan\",\"st. john's\",\"palestina\",\"caleta de carquin\",\"kingston\",\"mahbubabad\",\"edd\",\"holualoa\",\"pinotepa nacional\",\"port saint john's\",\"kapa'a\",\"qaqortoq\",\"arno\",\"cahors\",\"sola\",\"kodiak\",\"gondar\",\"mana\",\"mari-turek\",\"moratuwa\",\"agat village\",\"cullowhee\",\"saint-pierre\",\"la passe\",\"mount isa\",\"port alfred\",\"college\",\"lewistown\",\"jayapura\",\"belyy yar\",\"the bottom\",\"manismata\",\"kodinsk\",\"chinchilla\",\"fortuna\",\"sijunjung\",\"saudarkrokur\",\"gulf park estates\",\"hargeysa\",\"sarina\",\"oyem\",\"smithers\",\"princeville\",\"konkwesso\",\"broken hill\",\"ta`u\",\"valley city\",\"ust'-ordynskiy\",\"labrador city\",\"nyala\",\"dubbo\",\"bairnsdale\",\"santana\",\"guangyuan\",\"plettenberg bay\",\"aldinga beach\",\"kudymkar\",\"kovylkino\",\"pierre\",\"mandalgovi\",\"namibe\",\"porto novo\",\"sao martinho\",\"kollo\",\"bonthe\",\"gillette\",\"lebanon\",\"fort william\",\"lokot'\",\"hobyo\",\"east porterville\",\"galesong\",\"sitka\",\"mermoz boabab\",\"pedra azul\",\"olyokminsk\",\"praia da vitoria\",\"gadzhiyevo\",\"nyakahanga\",\"new plymouth\",\"araguaina\",\"nacala\",\"mailag\",\"susuman\",\"sept-iles\",\"copala\",\"ingeniero jacobacci\",\"tadine\",\"salmon arm\",\"jawhar\",\"tambuwal\",\"noosa heads\",\"champerico\",\"santa eularia des riu\",\"anastacio\",\"uray\",\"oriximina\",\"howard springs\",\"broome\",\"campina grande do sul\",\"villa gesell\",\"sao francisco de assis\",\"settat\",\"maceio\",\"nar'yan-mar\",\"vila velha\",\"durazno\",\"sibiti\",\"qamdo\",\"atalaia\",\"vredendal\",\"diu\",\"kas\",\"bahar\",\"colby\",\"tarawa\",\"salekhard\",\"aripuana\",\"timbuktu\",\"dwarka\",\"sittwe\",\"porto barra do ivinheima\",\"pauini\",\"miyaly\",\"east london\",\"monrovia\",\"neelankarai\",\"udayagiri\",\"horice\",\"harstad\",\"afaahiti\",\"ancud\",\"pak phanang\",\"multai\",\"ad dilam\",\"sandur\",\"natal\",\"villa huidobro\",\"ruthen\",\"mccomb\",\"korla\",\"beyneu\",\"inhambane\",\"nakonde\",\"angaur state\",\"salinas\",\"phan rang-thap cham\",\"san antonio de pale\",\"yeoju\",\"maua\",\"shingu\",\"swakopmund\",\"dudinka\",\"dawei\",\"acajutla\",\"kruisfontein\",\"salem\",\"pangai\",\"debre werk'\",\"the pas\",\"choyr\",\"hakui\",\"paso de los toros\",\"leh\",\"el rosario\",\"mil'kovo\",\"dhuusamarreeb\",\"deqen\",\"anupgarh\",\"arlington\",\"bubaque\",\"mogok\",\"lumphat\",\"zaysan\",\"as sulayyil\",\"minas de marcona\",\"axim\",\"purpe\",\"tchintabaraden\",\"nouadhibou\",\"vilhena\",\"ugoofaaru\",\"bikenibeu village\",\"urangan\",\"uturoa\",\"illizi\",\"chojnice\",\"tofol\",\"miracema do tocantins\",\"narasannapeta\",\"kyzyl\",\"alo\",\"banda aceh\",\"san luis de la loma\",\"prado\",\"tazacorte\",\"lerwick\",\"nicoya\",\"vilyuchinsk\",\"piti village\",\"murzuq\",\"taoudenni\",\"necochea\",\"tromso\",\"kupang\",\"okhotsk\",\"buala\",\"sao jose da coroa grande\",\"severoural'sk\",\"kindu\",\"lata\",\"geraldton\",\"minab\",\"khabary\",\"mezhdurechenskiy\",\"sault ste. marie\",\"morehead city\",\"altamont\",\"antalaha\",\"al ghayzah\",\"prestea\",\"ribeira brava\",\"kasempa\",\"altamira\",\"walvis bay\",\"tamanrasset\",\"mancio lima\",\"ruza\",\"yatou\",\"rongelap\",\"lesogorsk\",\"selfoss\",\"soio\",\"san jose del cabo\",\"sandnessjoen\",\"pacific grove\",\"south hedland\",\"garhwa\",\"afua\",\"asenovgrad\",\"mata-utu\",\"daokou\",\"saint croix\",\"khorixas\",\"imbituba\",\"dayr hafir\",\"sretensk\",\"kuraymah\",\"pangody\",\"oliver\",\"onguday\",\"lionel town\",\"apolinario saravia\",\"koath\",\"wynyard\",\"bereznik\",\"xiongzhou\",\"bandarban\",\"krasnoturansk\",\"nieuw amsterdam\",\"burry port\",\"hotan\",\"ringkobing\",\"cabedelo\",\"motygino\",\"wanxian\",\"tura\",\"ath thawrah\",\"karratha\",\"tuzla\",\"manokwari\",\"rabaul\",\"guerrero negro\",\"tarko-sale\",\"nili\",\"boca suno\",\"tilcara\",\"lethem\",\"north battleford\",\"samalut\",\"naze\",\"barcelos\",\"gilgit\",\"alice springs\",\"nuuk\",\"semenyih\",\"malango\",\"aromashevo\",\"martuk\",\"sanctuary point\",\"el nido\",\"yartsevo\",\"bintulu\",\"gokwe\",\"katsuura\",\"menaka\",\"nyurba\",\"joao camara\",\"taltal\",\"santa elena\",\"coahuayana de hidalgo\"]],[\"Humidity\",{\"type\":\"ndarray\",\"array\":{\"type\":\"bytes\",\"data\":\"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\"},\"shape\":[532],\"dtype\":\"int32\",\"order\":\"little\"}],[\"color\",[\"tiksi\",\"kabale\",\"cova figueira\",\"avarua\",\"invercargill\",\"longyearbyen\",\"flying fish cove\",\"alofi\",\"al artawiyah\",\"cabo san lucas\",\"liberty\",\"wailua homesteads\",\"olonkinbyen\",\"fort mcmurray\",\"boueni\",\"ilulissat\",\"edinburgh of the seven seas\",\"egilsstadir\",\"ribeira grande\",\"kapuskasing\",\"bethel\",\"port-aux-francais\",\"camana\",\"hiratacho\",\"petropavlovsk-kamchatsky\",\"waitangi\",\"christchurch\",\"adamstown\",\"vorgashor\",\"lazaro cardenas\",\"arraial do cabo\",\"alesund\",\"albany\",\"atbara\",\"veraval\",\"badger\",\"grytviken\",\"whitehorse\",\"yellowknife\",\"anadyr\",\"cockburn town\",\"maykop\",\"bengkulu\",\"flin flon\",\"constantia\",\"labytnangi\",\"igarka\",\"newman\",\"port mathurin\",\"port elizabeth\",\"dothan\",\"vadso\",\"port lincoln\",\"puerto natales\",\"antsiranana\",\"nova sintra\",\"woolgoolga\",\"xinzhou\",\"laojunmiao\",\"aizawl\",\"fisterra\",\"antonio enes\",\"ushuaia\",\"iqaluit\",\"boguchany\",\"novodvinsk\",\"chonchi\",\"lompoc\",\"atafu village\",\"colonia\",\"puerto ayora\",\"bodo\",\"howrah\",\"margaret river\",\"abashiri\",\"seven pagodas\",\"prince rupert\",\"stanley\",\"marat\",\"quellon\",\"goundam\",\"parabel'\",\"aasiaat\",\"bredasdorp\",\"yuzhno-kurilsk\",\"utrik\",\"luanda\",\"porto velho\",\"todos santos\",\"sungai penuh\",\"haimen\",\"hamilton\",\"alaghsas\",\"mejit\",\"polyarnyy\",\"keflavik\",\"hasaki\",\"ulladulla\",\"la sarre\",\"cidreira\",\"blackmans bay\",\"hellenthal\",\"volodarskiy\",\"lebu\",\"jiexiu\",\"nguigmi\",\"bady bassitt\",\"punta arenas\",\"ponta delgada\",\"floresville\",\"vorkuta\",\"rio grande\",\"bilibino\",\"pontassieve\",\"fiambala\",\"tsiombe\",\"new norfolk\",\"kone\",\"paramonga\",\"isafjordur\",\"west island\",\"harper\",\"papatowai\",\"ola\",\"port macquarie\",\"trucuk\",\"jamestown\",\"cukai\",\"saladas\",\"sao joao da barra\",\"belmonte\",\"fort st. john\",\"remire-montjoly\",\"nagqu\",\"ghardaia\",\"olinda\",\"cootamundra\",\"vilyuysk\",\"hermanus\",\"quang ngai\",\"mount gambier\",\"coquimbo\",\"lycksele\",\"iskateley\",\"waingapu\",\"zyryanskoye\",\"crane\",\"tazovsky\",\"port-vila\",\"myeik\",\"georgetown\",\"crawfordsville\",\"grand falls-windsor\",\"mount pearl\",\"leognan\",\"leshan\",\"papao\",\"tralee\",\"kaiapoi\",\"road town\",\"enewetak\",\"hadibu\",\"thompson\",\"forster\",\"usogorsk\",\"khandyga\",\"san patricio\",\"burang\",\"nampula\",\"mossel bay\",\"happy valley-goose bay\",\"lashio\",\"berdigestyakh\",\"gargalianoi\",\"richards bay\",\"shuangjiang\",\"revda\",\"hithadhoo\",\"turpan\",\"kawm umbu\",\"puerto lempira\",\"jianshui\",\"sangin\",\"greymouth\",\"shadegan\",\"santo domingo de los colorados\",\"teknaf\",\"fort bragg\",\"klyuchi\",\"severo-yeniseyskiy\",\"margate\",\"kalianget\",\"duragan\",\"ust-nera\",\"tashtyp\",\"bourg-saint-maurice\",\"uusikaupunki\",\"calca\",\"tolanaro\",\"kangding\",\"pisco\",\"castillos\",\"bouar\",\"tibanbang\",\"amahai\",\"tripoli\",\"carnarvon\",\"roma\",\"talnakh\",\"petrozavodsk\",\"cill airne\",\"kuusamo\",\"sinabang\",\"attapeu\",\"merritt\",\"weno\",\"jaguaribe\",\"queenstown\",\"tevriz\",\"manakara\",\"pachino\",\"hawaiian paradise park\",\"island harbour\",\"pekan\",\"udachny\",\"lihue\",\"codrington\",\"puerto armuelles\",\"kourou\",\"port blair\",\"langtoucun\",\"saipan\",\"st. john's\",\"palestina\",\"caleta de carquin\",\"kingston\",\"mahbubabad\",\"edd\",\"holualoa\",\"pinotepa nacional\",\"port saint john's\",\"kapa'a\",\"qaqortoq\",\"arno\",\"cahors\",\"sola\",\"kodiak\",\"gondar\",\"mana\",\"mari-turek\",\"moratuwa\",\"agat village\",\"cullowhee\",\"saint-pierre\",\"la passe\",\"mount isa\",\"port alfred\",\"college\",\"lewistown\",\"jayapura\",\"belyy yar\",\"the bottom\",\"manismata\",\"kodinsk\",\"chinchilla\",\"fortuna\",\"sijunjung\",\"saudarkrokur\",\"gulf park estates\",\"hargeysa\",\"sarina\",\"oyem\",\"smithers\",\"princeville\",\"konkwesso\",\"broken hill\",\"ta`u\",\"valley city\",\"ust'-ordynskiy\",\"labrador city\",\"nyala\",\"dubbo\",\"bairnsdale\",\"santana\",\"guangyuan\",\"plettenberg bay\",\"aldinga beach\",\"kudymkar\",\"kovylkino\",\"pierre\",\"mandalgovi\",\"namibe\",\"porto novo\",\"sao martinho\",\"kollo\",\"bonthe\",\"gillette\",\"lebanon\",\"fort william\",\"lokot'\",\"hobyo\",\"east porterville\",\"galesong\",\"sitka\",\"mermoz boabab\",\"pedra azul\",\"olyokminsk\",\"praia da vitoria\",\"gadzhiyevo\",\"nyakahanga\",\"new plymouth\",\"araguaina\",\"nacala\",\"mailag\",\"susuman\",\"sept-iles\",\"copala\",\"ingeniero jacobacci\",\"tadine\",\"salmon arm\",\"jawhar\",\"tambuwal\",\"noosa heads\",\"champerico\",\"santa eularia des riu\",\"anastacio\",\"uray\",\"oriximina\",\"howard springs\",\"broome\",\"campina grande do sul\",\"villa gesell\",\"sao francisco de assis\",\"settat\",\"maceio\",\"nar'yan-mar\",\"vila velha\",\"durazno\",\"sibiti\",\"qamdo\",\"atalaia\",\"vredendal\",\"diu\",\"kas\",\"bahar\",\"colby\",\"tarawa\",\"salekhard\",\"aripuana\",\"timbuktu\",\"dwarka\",\"sittwe\",\"porto barra do ivinheima\",\"pauini\",\"miyaly\",\"east london\",\"monrovia\",\"neelankarai\",\"udayagiri\",\"horice\",\"harstad\",\"afaahiti\",\"ancud\",\"pak phanang\",\"multai\",\"ad dilam\",\"sandur\",\"natal\",\"villa huidobro\",\"ruthen\",\"mccomb\",\"korla\",\"beyneu\",\"inhambane\",\"nakonde\",\"angaur state\",\"salinas\",\"phan rang-thap cham\",\"san antonio de pale\",\"yeoju\",\"maua\",\"shingu\",\"swakopmund\",\"dudinka\",\"dawei\",\"acajutla\",\"kruisfontein\",\"salem\",\"pangai\",\"debre werk'\",\"the pas\",\"choyr\",\"hakui\",\"paso de los toros\",\"leh\",\"el rosario\",\"mil'kovo\",\"dhuusamarreeb\",\"deqen\",\"anupgarh\",\"arlington\",\"bubaque\",\"mogok\",\"lumphat\",\"zaysan\",\"as sulayyil\",\"minas de marcona\",\"axim\",\"purpe\",\"tchintabaraden\",\"nouadhibou\",\"vilhena\",\"ugoofaaru\",\"bikenibeu village\",\"urangan\",\"uturoa\",\"illizi\",\"chojnice\",\"tofol\",\"miracema do tocantins\",\"narasannapeta\",\"kyzyl\",\"alo\",\"banda aceh\",\"san luis de la loma\",\"prado\",\"tazacorte\",\"lerwick\",\"nicoya\",\"vilyuchinsk\",\"piti village\",\"murzuq\",\"taoudenni\",\"necochea\",\"tromso\",\"kupang\",\"okhotsk\",\"buala\",\"sao jose da coroa grande\",\"severoural'sk\",\"kindu\",\"lata\",\"geraldton\",\"minab\",\"khabary\",\"mezhdurechenskiy\",\"sault ste. marie\",\"morehead city\",\"altamont\",\"antalaha\",\"al ghayzah\",\"prestea\",\"ribeira brava\",\"kasempa\",\"altamira\",\"walvis bay\",\"tamanrasset\",\"mancio lima\",\"ruza\",\"yatou\",\"rongelap\",\"lesogorsk\",\"selfoss\",\"soio\",\"san jose del cabo\",\"sandnessjoen\",\"pacific grove\",\"south hedland\",\"garhwa\",\"afua\",\"asenovgrad\",\"mata-utu\",\"daokou\",\"saint croix\",\"khorixas\",\"imbituba\",\"dayr hafir\",\"sretensk\",\"kuraymah\",\"pangody\",\"oliver\",\"onguday\",\"lionel town\",\"apolinario saravia\",\"koath\",\"wynyard\",\"bereznik\",\"xiongzhou\",\"bandarban\",\"krasnoturansk\",\"nieuw amsterdam\",\"burry port\",\"hotan\",\"ringkobing\",\"cabedelo\",\"motygino\",\"wanxian\",\"tura\",\"ath thawrah\",\"karratha\",\"tuzla\",\"manokwari\",\"rabaul\",\"guerrero negro\",\"tarko-sale\",\"nili\",\"boca suno\",\"tilcara\",\"lethem\",\"north battleford\",\"samalut\",\"naze\",\"barcelos\",\"gilgit\",\"alice springs\",\"nuuk\",\"semenyih\",\"malango\",\"aromashevo\",\"martuk\",\"sanctuary point\",\"el nido\",\"yartsevo\",\"bintulu\",\"gokwe\",\"katsuura\",\"menaka\",\"nyurba\",\"joao camara\",\"taltal\",\"santa elena\",\"coahuayana de hidalgo\"]],[\"size\",{\"type\":\"ndarray\",\"array\":{\"type\":\"bytes\",\"data\":\"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\"},\"shape\":[532],\"dtype\":\"float64\",\"order\":\"little\"}]]}}},\"view\":{\"type\":\"object\",\"name\":\"CDSView\",\"id\":\"p1059\",\"attributes\":{\"filter\":{\"type\":\"object\",\"name\":\"AllIndices\",\"id\":\"p1060\"}}},\"glyph\":{\"type\":\"object\",\"name\":\"Scatter\",\"id\":\"p1053\",\"attributes\":{\"tags\":[\"apply_ranges\"],\"x\":{\"type\":\"field\",\"field\":\"Lng\"},\"y\":{\"type\":\"field\",\"field\":\"Lat\"},\"size\":{\"type\":\"field\",\"field\":\"size\"},\"line_color\":{\"type\":\"field\",\"field\":\"color\",\"transform\":{\"type\":\"object\",\"name\":\"CategoricalColorMapper\",\"id\":\"p1046\",\"attributes\":{\"palette\":[\"#1f77b3\",\"#ff7e0e\",\"#2ba02b\",\"#d62628\",\"#9367bc\",\"#8c564b\",\"#e277c1\",\"#7e7e7e\",\"#bcbc21\",\"#16bdcf\",\"#3a0182\",\"#004201\",\"#0fffa8\",\"#5d003f\",\"#bcbcff\",\"#d8afa1\",\"#b80080\",\"#004d52\",\"#6b6400\",\"#7c0100\",\"#6026ff\",\"#ffff9a\",\"#564964\",\"#8cb893\",\"#93fbff\",\"#018267\",\"#90ff00\",\"#8200a0\",\"#ac8944\",\"#5b3400\",\"#ffbff2\",\"#ff6e75\",\"#798cff\",\"#dd00ff\",\"#505646\",\"#004489\",\"#ffbf60\",\"#ff018c\",\"#bdc8cf\",\"#af97b5\",\"#b65600\",\"#017000\",\"#cd87ff\",\"#1cd646\",\"#bfebc3\",\"#7997b5\",\"#a56089\",\"#6e8956\",\"#bc7c75\",\"#8a2844\",\"#00acff\",\"#8ed4ff\",\"#4b6d77\",\"#00d4b1\",\"#9300f2\",\"#8a9500\",\"#5d5b9e\",\"#fddfba\",\"#00939e\",\"#ffdb00\",\"#00aa79\",\"#520067\",\"#000091\",\"#0a5d3d\",\"#a5e275\",\"#623b41\",\"#c6c689\",\"#ff9eb5\",\"#cd4f6b\",\"#ff07d6\",\"#8a3a05\",\"#7e3d70\",\"#ff4901\",\"#602ba5\",\"#1c00ff\",\"#e6dfff\",\"#aa3baf\",\"#d89c00\",\"#a3a39e\",\"#3f69ff\",\"#46490c\",\"#7b6985\",\"#6b978c\",\"#ff9a75\",\"#835bff\",\"#7c6b46\",\"#80b654\",\"#bc0049\",\"#fd93ff\",\"#5d0018\",\"#89d1d1\",\"#9c8cd3\",\"#da6d42\",\"#8a5700\",\"#3b5069\",\"#4b6b3b\",\"#edcfd8\",\"#cfedff\",\"#aa1500\",\"#dfff4f\",\"#ff2a56\",\"#d1499e\",\"#707cb8\",\"#598000\",\"#00e4fd\",\"#774b95\",\"#67d48c\",\"#3d3a72\",\"#ac413f\",\"#d6a166\",\"#c169cd\",\"#69595d\",\"#87aced\",\"#a0a569\",\"#d1aae6\",\"#870062\",\"#00fddb\",\"#672818\",\"#b342ff\",\"#0e59c4\",\"#168742\",\"#90d300\",\"#cd7900\",\"#f959ff\",\"#5b7466\",\"#8eaeb3\",\"#9c7c8c\",\"#4600c6\",\"#6b4d2d\",\"#a56d46\",\"#9e8972\",\"#a8afca\",\"#cd8ca7\",\"#00fd64\",\"#917900\",\"#ff62a1\",\"#f4ffd8\",\"#018cf0\",\"#13aca0\",\"#5b2d59\",\"#89859e\",\"#cfccba\",\"#d4afc4\",\"#dbdd6d\",\"#cffff4\",\"#006485\",\"#006962\",\"#a84167\",\"#2d97c4\",\"#a874ff\",\"#26ba5d\",\"#57b600\",\"#caffa7\",\"#a379aa\",\"#ffbc93\",\"#89e2c1\",\"#0fc8ff\",\"#d400c4\",\"#626d89\",\"#69858e\",\"#4b4d52\",\"#aa6067\",\"#79b5d4\",\"#2b5916\",\"#9a0024\",\"#bdd1f2\",\"#896e67\",\"#69a56b\",\"#855467\",\"#aecdba\",\"#87997e\",\"#cadb00\",\"#9a0390\",\"#ebbc1a\",\"#eb9cd1\",\"#70006e\",\"#b1a131\",\"#ca6b93\",\"#4146a3\",\"#e48c89\",\"#d44400\",\"#c68aca\",\"#b69597\",\"#d41f75\",\"#724bcc\",\"#674d00\",\"#672138\",\"#38564f\",\"#6ebaaa\",\"#853a31\",\"#a5d397\",\"#b8af8e\",\"#d8e4df\",\"#aa00df\",\"#cac1db\",\"#ffdf8c\",\"#e2524d\",\"#66696e\",\"#ff001c\",\"#522d72\",\"#4d906b\",\"#a86d11\",\"#ff9e26\",\"#5ea3af\",\"#c88556\",\"#915997\",\"#a3a1ff\",\"#fdbaba\",\"#242a87\",\"#dbe6a8\",\"#97f2a7\",\"#6793d6\",\"#ba5b3f\",\"#3a5d91\",\"#364f2f\",\"#267c95\",\"#89959a\",\"#cfb356\",\"#004664\",\"#5e5d2f\",\"#8e8e41\",\"#ac3f13\",\"#69953b\",\"#a13d85\",\"#bfb6ba\",\"#acc667\",\"#6469cf\",\"#91af00\",\"#2be2da\",\"#016e36\",\"#ff7952\",\"#42807e\",\"#4fe800\",\"#995428\",\"#5d0a00\",\"#a30057\",\"#0c8700\",\"#5982a7\",\"#ffebfb\",\"#4b6901\",\"#8775d4\",\"#e6c6ff\",\"#a5ffda\",\"#d86e77\",\"#df014b\",\"#69675b\",\"#776ba1\",\"#7e8067\",\"#594685\",\"#0000ca\",\"#7c002a\",\"#97ff72\",\"#b5e2e1\",\"#db52c8\",\"#777734\",\"#57bd8e\",\"#1f77b3\",\"#ff7e0e\",\"#2ba02b\",\"#d62628\",\"#9367bc\",\"#8c564b\",\"#e277c1\",\"#7e7e7e\",\"#bcbc21\",\"#16bdcf\",\"#3a0182\",\"#004201\",\"#0fffa8\",\"#5d003f\",\"#bcbcff\",\"#d8afa1\",\"#b80080\",\"#004d52\",\"#6b6400\",\"#7c0100\",\"#6026ff\",\"#ffff9a\",\"#564964\",\"#8cb893\",\"#93fbff\",\"#018267\",\"#90ff00\",\"#8200a0\",\"#ac8944\",\"#5b3400\",\"#ffbff2\",\"#ff6e75\",\"#798cff\",\"#dd00ff\",\"#505646\",\"#004489\",\"#ffbf60\",\"#ff018c\",\"#bdc8cf\",\"#af97b5\",\"#b65600\",\"#017000\",\"#cd87ff\",\"#1cd646\",\"#bfebc3\",\"#7997b5\",\"#a56089\",\"#6e8956\",\"#bc7c75\",\"#8a2844\",\"#00acff\",\"#8ed4ff\",\"#4b6d77\",\"#00d4b1\",\"#9300f2\",\"#8a9500\",\"#5d5b9e\",\"#fddfba\",\"#00939e\",\"#ffdb00\",\"#00aa79\",\"#520067\",\"#000091\",\"#0a5d3d\",\"#a5e275\",\"#623b41\",\"#c6c689\",\"#ff9eb5\",\"#cd4f6b\",\"#ff07d6\",\"#8a3a05\",\"#7e3d70\",\"#ff4901\",\"#602ba5\",\"#1c00ff\",\"#e6dfff\",\"#aa3baf\",\"#d89c00\",\"#a3a39e\",\"#3f69ff\",\"#46490c\",\"#7b6985\",\"#6b978c\",\"#ff9a75\",\"#835bff\",\"#7c6b46\",\"#80b654\",\"#bc0049\",\"#fd93ff\",\"#5d0018\",\"#89d1d1\",\"#9c8cd3\",\"#da6d42\",\"#8a5700\",\"#3b5069\",\"#4b6b3b\",\"#edcfd8\",\"#cfedff\",\"#aa1500\",\"#dfff4f\",\"#ff2a56\",\"#d1499e\",\"#707cb8\",\"#598000\",\"#00e4fd\",\"#774b95\",\"#67d48c\",\"#3d3a72\",\"#ac413f\",\"#d6a166\",\"#c169cd\",\"#69595d\",\"#87aced\",\"#a0a569\",\"#d1aae6\",\"#870062\",\"#00fddb\",\"#672818\",\"#b342ff\",\"#0e59c4\",\"#168742\",\"#90d300\",\"#cd7900\",\"#f959ff\",\"#5b7466\",\"#8eaeb3\",\"#9c7c8c\",\"#4600c6\",\"#6b4d2d\",\"#a56d46\",\"#9e8972\",\"#a8afca\",\"#cd8ca7\",\"#00fd64\",\"#917900\",\"#ff62a1\",\"#f4ffd8\",\"#018cf0\",\"#13aca0\",\"#5b2d59\",\"#89859e\",\"#cfccba\",\"#d4afc4\",\"#dbdd6d\",\"#cffff4\",\"#006485\",\"#006962\",\"#a84167\",\"#2d97c4\",\"#a874ff\",\"#26ba5d\",\"#57b600\",\"#caffa7\",\"#a379aa\",\"#ffbc93\",\"#89e2c1\",\"#0fc8ff\",\"#d400c4\",\"#626d89\",\"#69858e\",\"#4b4d52\",\"#aa6067\",\"#79b5d4\",\"#2b5916\",\"#9a0024\",\"#bdd1f2\",\"#896e67\",\"#69a56b\",\"#855467\",\"#aecdba\",\"#87997e\",\"#cadb00\",\"#9a0390\",\"#ebbc1a\",\"#eb9cd1\",\"#70006e\",\"#b1a131\",\"#ca6b93\",\"#4146a3\",\"#e48c89\",\"#d44400\",\"#c68aca\",\"#b69597\",\"#d41f75\",\"#724bcc\",\"#674d00\",\"#672138\",\"#38564f\",\"#6ebaaa\",\"#853a31\",\"#a5d397\",\"#b8af8e\",\"#d8e4df\",\"#aa00df\",\"#cac1db\",\"#ffdf8c\",\"#e2524d\",\"#66696e\",\"#ff001c\",\"#522d72\",\"#4d906b\",\"#a86d11\",\"#ff9e26\",\"#5ea3af\",\"#c88556\",\"#915997\",\"#a3a1ff\",\"#fdbaba\",\"#242a87\",\"#dbe6a8\",\"#97f2a7\",\"#6793d6\",\"#ba5b3f\",\"#3a5d91\",\"#364f2f\",\"#267c95\",\"#89959a\",\"#cfb356\",\"#004664\",\"#5e5d2f\",\"#8e8e41\",\"#ac3f13\",\"#69953b\",\"#a13d85\",\"#bfb6ba\",\"#acc667\",\"#6469cf\",\"#91af00\",\"#2be2da\",\"#016e36\",\"#ff7952\",\"#42807e\",\"#4fe800\",\"#995428\",\"#5d0a00\",\"#a30057\",\"#0c8700\",\"#5982a7\",\"#ffebfb\",\"#4b6901\",\"#8775d4\",\"#e6c6ff\",\"#a5ffda\",\"#d86e77\",\"#df014b\",\"#69675b\",\"#776ba1\",\"#7e8067\",\"#594685\",\"#0000ca\",\"#7c002a\",\"#97ff72\",\"#b5e2e1\",\"#db52c8\",\"#777734\",\"#57bd8e\",\"#1f77b3\",\"#ff7e0e\",\"#2ba02b\",\"#d62628\",\"#9367bc\",\"#8c564b\",\"#e277c1\",\"#7e7e7e\",\"#bcbc21\",\"#16bdcf\",\"#3a0182\",\"#004201\",\"#0fffa8\",\"#5d003f\",\"#bcbcff\",\"#d8afa1\",\"#b80080\",\"#004d52\",\"#6b6400\",\"#7c0100\"],\"factors\":[\"tiksi\",\"kabale\",\"cova figueira\",\"avarua\",\"invercargill\",\"longyearbyen\",\"flying fish cove\",\"alofi\",\"al artawiyah\",\"cabo san lucas\",\"liberty\",\"wailua homesteads\",\"olonkinbyen\",\"fort mcmurray\",\"boueni\",\"ilulissat\",\"edinburgh of the seven seas\",\"egilsstadir\",\"ribeira grande\",\"kapuskasing\",\"bethel\",\"port-aux-francais\",\"camana\",\"hiratacho\",\"petropavlovsk-kamchatsky\",\"waitangi\",\"christchurch\",\"adamstown\",\"vorgashor\",\"lazaro cardenas\",\"arraial do cabo\",\"alesund\",\"albany\",\"atbara\",\"veraval\",\"badger\",\"grytviken\",\"whitehorse\",\"yellowknife\",\"anadyr\",\"cockburn town\",\"maykop\",\"bengkulu\",\"flin flon\",\"constantia\",\"labytnangi\",\"igarka\",\"newman\",\"port mathurin\",\"port elizabeth\",\"dothan\",\"vadso\",\"port lincoln\",\"puerto natales\",\"antsiranana\",\"nova sintra\",\"woolgoolga\",\"xinzhou\",\"laojunmiao\",\"aizawl\",\"fisterra\",\"antonio enes\",\"ushuaia\",\"iqaluit\",\"boguchany\",\"novodvinsk\",\"chonchi\",\"lompoc\",\"atafu village\",\"colonia\",\"puerto ayora\",\"bodo\",\"howrah\",\"margaret river\",\"abashiri\",\"seven pagodas\",\"prince rupert\",\"stanley\",\"marat\",\"quellon\",\"goundam\",\"parabel'\",\"aasiaat\",\"bredasdorp\",\"yuzhno-kurilsk\",\"utrik\",\"luanda\",\"porto velho\",\"todos santos\",\"sungai penuh\",\"haimen\",\"hamilton\",\"alaghsas\",\"mejit\",\"polyarnyy\",\"keflavik\",\"hasaki\",\"ulladulla\",\"la sarre\",\"cidreira\",\"blackmans bay\",\"hellenthal\",\"volodarskiy\",\"lebu\",\"jiexiu\",\"nguigmi\",\"bady bassitt\",\"punta arenas\",\"ponta delgada\",\"floresville\",\"vorkuta\",\"rio grande\",\"bilibino\",\"pontassieve\",\"fiambala\",\"tsiombe\",\"new norfolk\",\"kone\",\"paramonga\",\"isafjordur\",\"west island\",\"harper\",\"papatowai\",\"ola\",\"port macquarie\",\"trucuk\",\"jamestown\",\"cukai\",\"saladas\",\"sao joao da barra\",\"belmonte\",\"fort st. john\",\"remire-montjoly\",\"nagqu\",\"ghardaia\",\"olinda\",\"cootamundra\",\"vilyuysk\",\"hermanus\",\"quang ngai\",\"mount gambier\",\"coquimbo\",\"lycksele\",\"iskateley\",\"waingapu\",\"zyryanskoye\",\"crane\",\"tazovsky\",\"port-vila\",\"myeik\",\"georgetown\",\"crawfordsville\",\"grand falls-windsor\",\"mount pearl\",\"leognan\",\"leshan\",\"papao\",\"tralee\",\"kaiapoi\",\"road town\",\"enewetak\",\"hadibu\",\"thompson\",\"forster\",\"usogorsk\",\"khandyga\",\"san patricio\",\"burang\",\"nampula\",\"mossel bay\",\"happy valley-goose bay\",\"lashio\",\"berdigestyakh\",\"gargalianoi\",\"richards bay\",\"shuangjiang\",\"revda\",\"hithadhoo\",\"turpan\",\"kawm umbu\",\"puerto lempira\",\"jianshui\",\"sangin\",\"greymouth\",\"shadegan\",\"santo domingo de los colorados\",\"teknaf\",\"fort bragg\",\"klyuchi\",\"severo-yeniseyskiy\",\"margate\",\"kalianget\",\"duragan\",\"ust-nera\",\"tashtyp\",\"bourg-saint-maurice\",\"uusikaupunki\",\"calca\",\"tolanaro\",\"kangding\",\"pisco\",\"castillos\",\"bouar\",\"tibanbang\",\"amahai\",\"tripoli\",\"carnarvon\",\"roma\",\"talnakh\",\"petrozavodsk\",\"cill airne\",\"kuusamo\",\"sinabang\",\"attapeu\",\"merritt\",\"weno\",\"jaguaribe\",\"queenstown\",\"tevriz\",\"manakara\",\"pachino\",\"hawaiian paradise park\",\"island harbour\",\"pekan\",\"udachny\",\"lihue\",\"codrington\",\"puerto armuelles\",\"kourou\",\"port blair\",\"langtoucun\",\"saipan\",\"st. john's\",\"palestina\",\"caleta de carquin\",\"kingston\",\"mahbubabad\",\"edd\",\"holualoa\",\"pinotepa nacional\",\"port saint john's\",\"kapa'a\",\"qaqortoq\",\"arno\",\"cahors\",\"sola\",\"kodiak\",\"gondar\",\"mana\",\"mari-turek\",\"moratuwa\",\"agat village\",\"cullowhee\",\"saint-pierre\",\"la passe\",\"mount isa\",\"port alfred\",\"college\",\"lewistown\",\"jayapura\",\"belyy yar\",\"the bottom\",\"manismata\",\"kodinsk\",\"chinchilla\",\"fortuna\",\"sijunjung\",\"saudarkrokur\",\"gulf park estates\",\"hargeysa\",\"sarina\",\"oyem\",\"smithers\",\"princeville\",\"konkwesso\",\"broken hill\",\"ta`u\",\"valley city\",\"ust'-ordynskiy\",\"labrador city\",\"nyala\",\"dubbo\",\"bairnsdale\",\"santana\",\"guangyuan\",\"plettenberg bay\",\"aldinga beach\",\"kudymkar\",\"kovylkino\",\"pierre\",\"mandalgovi\",\"namibe\",\"porto novo\",\"sao martinho\",\"kollo\",\"bonthe\",\"gillette\",\"lebanon\",\"fort william\",\"lokot'\",\"hobyo\",\"east porterville\",\"galesong\",\"sitka\",\"mermoz boabab\",\"pedra azul\",\"olyokminsk\",\"praia da vitoria\",\"gadzhiyevo\",\"nyakahanga\",\"new plymouth\",\"araguaina\",\"nacala\",\"mailag\",\"susuman\",\"sept-iles\",\"copala\",\"ingeniero jacobacci\",\"tadine\",\"salmon arm\",\"jawhar\",\"tambuwal\",\"noosa heads\",\"champerico\",\"santa eularia des riu\",\"anastacio\",\"uray\",\"oriximina\",\"howard springs\",\"broome\",\"campina grande do sul\",\"villa gesell\",\"sao francisco de assis\",\"settat\",\"maceio\",\"nar'yan-mar\",\"vila velha\",\"durazno\",\"sibiti\",\"qamdo\",\"atalaia\",\"vredendal\",\"diu\",\"kas\",\"bahar\",\"colby\",\"tarawa\",\"salekhard\",\"aripuana\",\"timbuktu\",\"dwarka\",\"sittwe\",\"porto barra do ivinheima\",\"pauini\",\"miyaly\",\"east london\",\"monrovia\",\"neelankarai\",\"udayagiri\",\"horice\",\"harstad\",\"afaahiti\",\"ancud\",\"pak phanang\",\"multai\",\"ad dilam\",\"sandur\",\"natal\",\"villa huidobro\",\"ruthen\",\"mccomb\",\"korla\",\"beyneu\",\"inhambane\",\"nakonde\",\"angaur state\",\"salinas\",\"phan rang-thap cham\",\"san antonio de pale\",\"yeoju\",\"maua\",\"shingu\",\"swakopmund\",\"dudinka\",\"dawei\",\"acajutla\",\"kruisfontein\",\"salem\",\"pangai\",\"debre werk'\",\"the pas\",\"choyr\",\"hakui\",\"paso de los toros\",\"leh\",\"el rosario\",\"mil'kovo\",\"dhuusamarreeb\",\"deqen\",\"anupgarh\",\"arlington\",\"bubaque\",\"mogok\",\"lumphat\",\"zaysan\",\"as sulayyil\",\"minas de marcona\",\"axim\",\"purpe\",\"tchintabaraden\",\"nouadhibou\",\"vilhena\",\"ugoofaaru\",\"bikenibeu village\",\"urangan\",\"uturoa\",\"illizi\",\"chojnice\",\"tofol\",\"miracema do tocantins\",\"narasannapeta\",\"kyzyl\",\"alo\",\"banda aceh\",\"san luis de la loma\",\"prado\",\"tazacorte\",\"lerwick\",\"nicoya\",\"vilyuchinsk\",\"piti village\",\"murzuq\",\"taoudenni\",\"necochea\",\"tromso\",\"kupang\",\"okhotsk\",\"buala\",\"sao jose da coroa grande\",\"severoural'sk\",\"kindu\",\"lata\",\"geraldton\",\"minab\",\"khabary\",\"mezhdurechenskiy\",\"sault ste. marie\",\"morehead city\",\"altamont\",\"antalaha\",\"al ghayzah\",\"prestea\",\"ribeira brava\",\"kasempa\",\"altamira\",\"walvis bay\",\"tamanrasset\",\"mancio lima\",\"ruza\",\"yatou\",\"rongelap\",\"lesogorsk\",\"selfoss\",\"soio\",\"san jose del cabo\",\"sandnessjoen\",\"pacific grove\",\"south hedland\",\"garhwa\",\"afua\",\"asenovgrad\",\"mata-utu\",\"daokou\",\"saint croix\",\"khorixas\",\"imbituba\",\"dayr hafir\",\"sretensk\",\"kuraymah\",\"pangody\",\"oliver\",\"onguday\",\"lionel town\",\"apolinario saravia\",\"koath\",\"wynyard\",\"bereznik\",\"xiongzhou\",\"bandarban\",\"krasnoturansk\",\"nieuw amsterdam\",\"burry port\",\"hotan\",\"ringkobing\",\"cabedelo\",\"motygino\",\"wanxian\",\"tura\",\"ath thawrah\",\"karratha\",\"tuzla\",\"manokwari\",\"rabaul\",\"guerrero negro\",\"tarko-sale\",\"nili\",\"boca suno\",\"tilcara\",\"lethem\",\"north battleford\",\"samalut\",\"naze\",\"barcelos\",\"gilgit\",\"alice springs\",\"nuuk\",\"semenyih\",\"malango\",\"aromashevo\",\"martuk\",\"sanctuary point\",\"el nido\",\"yartsevo\",\"bintulu\",\"gokwe\",\"katsuura\",\"menaka\",\"nyurba\",\"joao camara\",\"taltal\",\"santa elena\",\"coahuayana de hidalgo\"]}}},\"line_alpha\":{\"type\":\"value\",\"value\":0.7},\"fill_color\":{\"type\":\"field\",\"field\":\"color\",\"transform\":{\"id\":\"p1046\"}},\"fill_alpha\":{\"type\":\"value\",\"value\":0.7},\"hatch_color\":{\"type\":\"field\",\"field\":\"color\",\"transform\":{\"id\":\"p1046\"}},\"hatch_alpha\":{\"type\":\"value\",\"value\":0.7}}},\"selection_glyph\":{\"type\":\"object\",\"name\":\"Scatter\",\"id\":\"p1055\",\"attributes\":{\"tags\":[\"apply_ranges\"],\"x\":{\"type\":\"field\",\"field\":\"Lng\"},\"y\":{\"type\":\"field\",\"field\":\"Lat\"},\"size\":{\"type\":\"field\",\"field\":\"size\"},\"line_color\":{\"type\":\"field\",\"field\":\"color\",\"transform\":{\"id\":\"p1046\"}},\"line_alpha\":{\"type\":\"value\",\"value\":0.7},\"fill_color\":{\"type\":\"field\",\"field\":\"color\",\"transform\":{\"id\":\"p1046\"}},\"fill_alpha\":{\"type\":\"value\",\"value\":0.7},\"hatch_color\":{\"type\":\"field\",\"field\":\"color\",\"transform\":{\"id\":\"p1046\"}},\"hatch_alpha\":{\"type\":\"value\",\"value\":0.7}}},\"nonselection_glyph\":{\"type\":\"object\",\"name\":\"Scatter\",\"id\":\"p1054\",\"attributes\":{\"tags\":[\"apply_ranges\"],\"x\":{\"type\":\"field\",\"field\":\"Lng\"},\"y\":{\"type\":\"field\",\"field\":\"Lat\"},\"size\":{\"type\":\"field\",\"field\":\"size\"},\"line_color\":{\"type\":\"field\",\"field\":\"color\",\"transform\":{\"id\":\"p1046\"}},\"line_alpha\":{\"type\":\"value\",\"value\":0.7},\"fill_color\":{\"type\":\"field\",\"field\":\"color\",\"transform\":{\"id\":\"p1046\"}},\"fill_alpha\":{\"type\":\"value\",\"value\":0.7},\"hatch_color\":{\"type\":\"field\",\"field\":\"color\",\"transform\":{\"id\":\"p1046\"}},\"hatch_alpha\":{\"type\":\"value\",\"value\":0.1}}},\"hover_glyph\":{\"type\":\"object\",\"name\":\"Scatter\",\"id\":\"p1056\",\"attributes\":{\"tags\":[\"apply_ranges\"],\"x\":{\"type\":\"field\",\"field\":\"Lng\"},\"y\":{\"type\":\"field\",\"field\":\"Lat\"},\"size\":{\"type\":\"field\",\"field\":\"size\"},\"line_color\":{\"type\":\"field\",\"field\":\"color\",\"transform\":{\"id\":\"p1046\"}},\"line_alpha\":{\"type\":\"value\",\"value\":0.7},\"fill_color\":{\"type\":\"field\",\"field\":\"color\",\"transform\":{\"id\":\"p1046\"}},\"fill_alpha\":{\"type\":\"value\",\"value\":0.7},\"hatch_color\":{\"type\":\"field\",\"field\":\"color\",\"transform\":{\"id\":\"p1046\"}},\"hatch_alpha\":{\"type\":\"value\",\"value\":0.7}}},\"muted_glyph\":{\"type\":\"object\",\"name\":\"Scatter\",\"id\":\"p1057\",\"attributes\":{\"tags\":[\"apply_ranges\"],\"x\":{\"type\":\"field\",\"field\":\"Lng\"},\"y\":{\"type\":\"field\",\"field\":\"Lat\"},\"size\":{\"type\":\"field\",\"field\":\"size\"},\"line_color\":{\"type\":\"field\",\"field\":\"color\",\"transform\":{\"id\":\"p1046\"}},\"line_alpha\":{\"type\":\"value\",\"value\":0.2},\"fill_color\":{\"type\":\"field\",\"field\":\"color\",\"transform\":{\"id\":\"p1046\"}},\"fill_alpha\":{\"type\":\"value\",\"value\":0.2},\"hatch_color\":{\"type\":\"field\",\"field\":\"color\",\"transform\":{\"id\":\"p1046\"}},\"hatch_alpha\":{\"type\":\"value\",\"value\":0.2}}}}}],\"toolbar\":{\"type\":\"object\",\"name\":\"Toolbar\",\"id\":\"p1030\",\"attributes\":{\"tools\":[{\"type\":\"object\",\"name\":\"WheelZoomTool\",\"id\":\"p1017\",\"attributes\":{\"zoom_on_axis\":false}},{\"type\":\"object\",\"name\":\"BoxZoomTool\",\"id\":\"p1018\",\"attributes\":{\"overlay\":{\"type\":\"object\",\"name\":\"BoxAnnotation\",\"id\":\"p1004\",\"attributes\":{\"syncable\":false,\"level\":\"overlay\",\"visible\":false,\"left_units\":\"canvas\",\"right_units\":\"canvas\",\"bottom_units\":\"canvas\",\"top_units\":\"canvas\",\"line_color\":\"black\",\"line_alpha\":1.0,\"line_width\":2,\"line_dash\":[4,4],\"fill_color\":\"lightgrey\",\"fill_alpha\":0.5}},\"match_aspect\":true}},{\"type\":\"object\",\"name\":\"HoverTool\",\"id\":\"p1020\",\"attributes\":{\"tags\":[\"hv_created\"],\"renderers\":[{\"id\":\"p1058\"}],\"tooltips\":[[\"Lng\",\"$x{custom}\"],[\"Lat\",\"$y{custom}\"],[\"City\",\"@{City}\"],[\"Humidity\",\"@{Humidity}\"]],\"formatters\":{\"type\":\"map\",\"entries\":[[\"$x\",{\"type\":\"object\",\"name\":\"CustomJSHover\",\"id\":\"p1063\",\"attributes\":{\"code\":\"\\n        const projections = Bokeh.require(\\\"core/util/projections\\\");\\n        const {snap_x, snap_y} = special_vars\\n        const coords = projections.wgs84_mercator.invert(snap_x, snap_y)\\n        return \\\"\\\" + (coords[0]).toFixed(4)\\n    \"}}],[\"$y\",{\"type\":\"object\",\"name\":\"CustomJSHover\",\"id\":\"p1064\",\"attributes\":{\"code\":\"\\n        const projections = Bokeh.require(\\\"core/util/projections\\\");\\n        const {snap_x, snap_y} = special_vars\\n        const coords = projections.wgs84_mercator.invert(snap_x, snap_y)\\n        return \\\"\\\" + (coords[1]).toFixed(4)\\n    \"}}]]}}},{\"type\":\"object\",\"name\":\"SaveTool\",\"id\":\"p1043\"},{\"type\":\"object\",\"name\":\"PanTool\",\"id\":\"p1044\"},{\"type\":\"object\",\"name\":\"ResetTool\",\"id\":\"p1045\"}],\"active_drag\":{\"id\":\"p1044\"}}},\"left\":[{\"type\":\"object\",\"name\":\"LinearAxis\",\"id\":\"p1038\",\"attributes\":{\"ticker\":{\"type\":\"object\",\"name\":\"MercatorTicker\",\"id\":\"p1067\",\"attributes\":{\"mantissas\":[1,2,5],\"dimension\":\"lat\"}},\"formatter\":{\"type\":\"object\",\"name\":\"MercatorTickFormatter\",\"id\":\"p1068\",\"attributes\":{\"dimension\":\"lat\"}},\"axis_label\":\"Lat\",\"major_label_policy\":{\"type\":\"object\",\"name\":\"AllLabels\",\"id\":\"p1041\"}}}],\"right\":[{\"type\":\"object\",\"name\":\"Legend\",\"id\":\"p1061\",\"attributes\":{\"location\":[0,0],\"items\":[{\"type\":\"object\",\"name\":\"LegendItem\",\"id\":\"p1062\",\"attributes\":{\"label\":{\"type\":\"field\",\"field\":\"color\"},\"renderers\":[{\"id\":\"p1058\"}]}}]}}],\"below\":[{\"type\":\"object\",\"name\":\"LinearAxis\",\"id\":\"p1033\",\"attributes\":{\"ticker\":{\"type\":\"object\",\"name\":\"MercatorTicker\",\"id\":\"p1065\",\"attributes\":{\"mantissas\":[1,2,5],\"dimension\":\"lon\"}},\"formatter\":{\"type\":\"object\",\"name\":\"MercatorTickFormatter\",\"id\":\"p1066\",\"attributes\":{\"dimension\":\"lon\"}},\"axis_label\":\"Lng\",\"major_label_policy\":{\"type\":\"object\",\"name\":\"AllLabels\",\"id\":\"p1036\"}}}],\"center\":[{\"type\":\"object\",\"name\":\"Grid\",\"id\":\"p1037\",\"attributes\":{\"axis\":{\"id\":\"p1033\"},\"grid_line_color\":null}},{\"type\":\"object\",\"name\":\"Grid\",\"id\":\"p1042\",\"attributes\":{\"dimension\":1,\"axis\":{\"id\":\"p1038\"},\"grid_line_color\":null}},{\"id\":\"p1061\"}],\"frame_width\":896,\"frame_height\":504,\"min_border_top\":10,\"min_border_bottom\":10,\"min_border_left\":10,\"min_border_right\":10,\"output_backend\":\"webgl\",\"match_aspect\":true}},{\"type\":\"object\",\"name\":\"Spacer\",\"id\":\"p1070\",\"attributes\":{\"name\":\"HSpacer01589\",\"stylesheets\":[\"\\n:host(.pn-loading.pn-arc):before, .pn-loading.pn-arc:before {\\n  background-image: url(\\\"data:image/svg+xml;base64,PHN2ZyB4bWxucz0iaHR0cDovL3d3dy53My5vcmcvMjAwMC9zdmciIHN0eWxlPSJtYXJnaW46IGF1dG87IGJhY2tncm91bmQ6IG5vbmU7IGRpc3BsYXk6IGJsb2NrOyBzaGFwZS1yZW5kZXJpbmc6IGF1dG87IiB2aWV3Qm94PSIwIDAgMTAwIDEwMCIgcHJlc2VydmVBc3BlY3RSYXRpbz0ieE1pZFlNaWQiPiAgPGNpcmNsZSBjeD0iNTAiIGN5PSI1MCIgZmlsbD0ibm9uZSIgc3Ryb2tlPSIjYzNjM2MzIiBzdHJva2Utd2lkdGg9IjEwIiByPSIzNSIgc3Ryb2tlLWRhc2hhcnJheT0iMTY0LjkzMzYxNDMxMzQ2NDE1IDU2Ljk3Nzg3MTQzNzgyMTM4Ij4gICAgPGFuaW1hdGVUcmFuc2Zvcm0gYXR0cmlidXRlTmFtZT0idHJhbnNmb3JtIiB0eXBlPSJyb3RhdGUiIHJlcGVhdENvdW50PSJpbmRlZmluaXRlIiBkdXI9IjFzIiB2YWx1ZXM9IjAgNTAgNTA7MzYwIDUwIDUwIiBrZXlUaW1lcz0iMDsxIj48L2FuaW1hdGVUcmFuc2Zvcm0+ICA8L2NpcmNsZT48L3N2Zz4=\\\");\\n  background-size: auto calc(min(50%, 400px));\\n}\",{\"id\":\"p1008\"},{\"id\":\"p1006\"},{\"id\":\"p1007\"}],\"margin\":0,\"sizing_mode\":\"stretch_width\",\"align\":\"start\"}}]}}],\"defs\":[{\"type\":\"model\",\"name\":\"ReactiveHTML1\"},{\"type\":\"model\",\"name\":\"FlexBox1\",\"properties\":[{\"name\":\"align_content\",\"kind\":\"Any\",\"default\":\"flex-start\"},{\"name\":\"align_items\",\"kind\":\"Any\",\"default\":\"flex-start\"},{\"name\":\"flex_direction\",\"kind\":\"Any\",\"default\":\"row\"},{\"name\":\"flex_wrap\",\"kind\":\"Any\",\"default\":\"wrap\"},{\"name\":\"justify_content\",\"kind\":\"Any\",\"default\":\"flex-start\"}]},{\"type\":\"model\",\"name\":\"FloatPanel1\",\"properties\":[{\"name\":\"config\",\"kind\":\"Any\",\"default\":{\"type\":\"map\"}},{\"name\":\"contained\",\"kind\":\"Any\",\"default\":true},{\"name\":\"position\",\"kind\":\"Any\",\"default\":\"right-top\"},{\"name\":\"offsetx\",\"kind\":\"Any\",\"default\":null},{\"name\":\"offsety\",\"kind\":\"Any\",\"default\":null},{\"name\":\"theme\",\"kind\":\"Any\",\"default\":\"primary\"},{\"name\":\"status\",\"kind\":\"Any\",\"default\":\"normalized\"}]},{\"type\":\"model\",\"name\":\"GridStack1\",\"properties\":[{\"name\":\"mode\",\"kind\":\"Any\",\"default\":\"warn\"},{\"name\":\"ncols\",\"kind\":\"Any\",\"default\":null},{\"name\":\"nrows\",\"kind\":\"Any\",\"default\":null},{\"name\":\"allow_resize\",\"kind\":\"Any\",\"default\":true},{\"name\":\"allow_drag\",\"kind\":\"Any\",\"default\":true},{\"name\":\"state\",\"kind\":\"Any\",\"default\":[]}]},{\"type\":\"model\",\"name\":\"drag1\",\"properties\":[{\"name\":\"slider_width\",\"kind\":\"Any\",\"default\":5},{\"name\":\"slider_color\",\"kind\":\"Any\",\"default\":\"black\"},{\"name\":\"value\",\"kind\":\"Any\",\"default\":50}]},{\"type\":\"model\",\"name\":\"click1\",\"properties\":[{\"name\":\"terminal_output\",\"kind\":\"Any\",\"default\":\"\"},{\"name\":\"debug_name\",\"kind\":\"Any\",\"default\":\"\"},{\"name\":\"clears\",\"kind\":\"Any\",\"default\":0}]},{\"type\":\"model\",\"name\":\"FastWrapper1\",\"properties\":[{\"name\":\"object\",\"kind\":\"Any\",\"default\":null},{\"name\":\"style\",\"kind\":\"Any\",\"default\":null}]},{\"type\":\"model\",\"name\":\"NotificationAreaBase1\",\"properties\":[{\"name\":\"js_events\",\"kind\":\"Any\",\"default\":{\"type\":\"map\"}},{\"name\":\"position\",\"kind\":\"Any\",\"default\":\"bottom-right\"},{\"name\":\"_clear\",\"kind\":\"Any\",\"default\":0}]},{\"type\":\"model\",\"name\":\"NotificationArea1\",\"properties\":[{\"name\":\"js_events\",\"kind\":\"Any\",\"default\":{\"type\":\"map\"}},{\"name\":\"notifications\",\"kind\":\"Any\",\"default\":[]},{\"name\":\"position\",\"kind\":\"Any\",\"default\":\"bottom-right\"},{\"name\":\"_clear\",\"kind\":\"Any\",\"default\":0},{\"name\":\"types\",\"kind\":\"Any\",\"default\":[{\"type\":\"map\",\"entries\":[[\"type\",\"warning\"],[\"background\",\"#ffc107\"],[\"icon\",{\"type\":\"map\",\"entries\":[[\"className\",\"fas fa-exclamation-triangle\"],[\"tagName\",\"i\"],[\"color\",\"white\"]]}]]},{\"type\":\"map\",\"entries\":[[\"type\",\"info\"],[\"background\",\"#007bff\"],[\"icon\",{\"type\":\"map\",\"entries\":[[\"className\",\"fas fa-info-circle\"],[\"tagName\",\"i\"],[\"color\",\"white\"]]}]]}]}]},{\"type\":\"model\",\"name\":\"Notification\",\"properties\":[{\"name\":\"background\",\"kind\":\"Any\",\"default\":null},{\"name\":\"duration\",\"kind\":\"Any\",\"default\":3000},{\"name\":\"icon\",\"kind\":\"Any\",\"default\":null},{\"name\":\"message\",\"kind\":\"Any\",\"default\":\"\"},{\"name\":\"notification_type\",\"kind\":\"Any\",\"default\":null},{\"name\":\"_destroyed\",\"kind\":\"Any\",\"default\":false}]},{\"type\":\"model\",\"name\":\"TemplateActions1\",\"properties\":[{\"name\":\"open_modal\",\"kind\":\"Any\",\"default\":0},{\"name\":\"close_modal\",\"kind\":\"Any\",\"default\":0}]},{\"type\":\"model\",\"name\":\"BootstrapTemplateActions1\",\"properties\":[{\"name\":\"open_modal\",\"kind\":\"Any\",\"default\":0},{\"name\":\"close_modal\",\"kind\":\"Any\",\"default\":0}]},{\"type\":\"model\",\"name\":\"MaterialTemplateActions1\",\"properties\":[{\"name\":\"open_modal\",\"kind\":\"Any\",\"default\":0},{\"name\":\"close_modal\",\"kind\":\"Any\",\"default\":0}]}]}};\n",
       "  var render_items = [{\"docid\":\"9da7ebab-9c38-4b58-8fcb-9398051cb730\",\"roots\":{\"p1005\":\"ad8d2ea8-7fe4-4e77-802f-9bf8c63ceec8\"},\"root_ids\":[\"p1005\"]}];\n",
       "  var docs = Object.values(docs_json)\n",
       "  if (!docs) {\n",
       "    return\n",
       "  }\n",
       "  const py_version = docs[0].version.replace('rc', '-rc.').replace('.dev', '-dev.')\n",
       "  const is_dev = py_version.indexOf(\"+\") !== -1 || py_version.indexOf(\"-\") !== -1\n",
       "  function embed_document(root) {\n",
       "    var Bokeh = get_bokeh(root)\n",
       "    Bokeh.embed.embed_items_notebook(docs_json, render_items);\n",
       "    for (const render_item of render_items) {\n",
       "      for (const root_id of render_item.root_ids) {\n",
       "\tconst id_el = document.getElementById(root_id)\n",
       "\tif (id_el.children.length && (id_el.children[0].className === 'bk-root')) {\n",
       "\t  const root_el = id_el.children[0]\n",
       "\t  root_el.id = root_el.id + '-rendered'\n",
       "\t}\n",
       "      }\n",
       "    }\n",
       "  }\n",
       "  function get_bokeh(root) {\n",
       "    if (root.Bokeh === undefined) {\n",
       "      return null\n",
       "    } else if (root.Bokeh.version !== py_version && !is_dev) {\n",
       "      if (root.Bokeh.versions === undefined || !root.Bokeh.versions.has(py_version)) {\n",
       "\treturn null\n",
       "      }\n",
       "      return root.Bokeh.versions.get(py_version);\n",
       "    } else if (root.Bokeh.version === py_version) {\n",
       "      return root.Bokeh\n",
       "    }\n",
       "    return null\n",
       "  }\n",
       "  function is_loaded(root) {\n",
       "    var Bokeh = get_bokeh(root)\n",
       "    return (Bokeh != null && Bokeh.Panel !== undefined)\n",
       "  }\n",
       "  if (is_loaded(root)) {\n",
       "    embed_document(root);\n",
       "  } else {\n",
       "    var attempts = 0;\n",
       "    var timer = setInterval(function(root) {\n",
       "      if (is_loaded(root)) {\n",
       "        clearInterval(timer);\n",
       "        embed_document(root);\n",
       "      } else if (document.readyState == \"complete\") {\n",
       "        attempts++;\n",
       "        if (attempts > 200) {\n",
       "          clearInterval(timer);\n",
       "\t  var Bokeh = get_bokeh(root)\n",
       "\t  if (Bokeh == null || Bokeh.Panel == null) {\n",
       "            console.warn(\"Panel: ERROR: Unable to run Panel code because Bokeh or Panel library is missing\");\n",
       "\t  } else {\n",
       "\t    console.warn(\"Panel: WARNING: Attempting to render but not all required libraries could be resolved.\")\n",
       "\t    embed_document(root)\n",
       "\t  }\n",
       "        }\n",
       "      }\n",
       "    }, 25, root)\n",
       "  }\n",
       "})(window);</script>"
      ],
      "text/plain": [
       ":Points   [Lng,Lat]   (City,Humidity)"
      ]
     },
     "execution_count": 6,
     "metadata": {
      "application/vnd.holoviews_exec.v0+json": {
       "id": "p1005"
      }
     },
     "output_type": "execute_result"
    }
   ],
   "source": [
    "#%%capture --no-display\n",
    "\n",
    "# Configure the map plot\n",
    "humidityPlot = city_data_df.hvplot.points(\n",
    "    \"Lng\",\n",
    "    \"Lat\",\n",
    "    geo=True,\n",
    "    size=\"Humidity\",\n",
    "    scale=1,\n",
    "    color =\"City\",\n",
    "    alpha = 0.7,\n",
    "    titles = \"OSM\",\n",
    "    frame_height = 504,\n",
    "    frame_width = 896,\n",
    "    hover_cols = [\"City\", \"Humidity\"]\n",
    ")\n",
    "\n",
    "\n",
    "# Display the map\n",
    "humidityPlot"
   ]
  },
  {
   "cell_type": "markdown",
   "metadata": {},
   "source": [
    "### Step 2: Narrow down the `city_data_df` DataFrame to find your ideal weather condition"
   ]
  },
  {
   "cell_type": "code",
   "execution_count": 10,
   "metadata": {},
   "outputs": [
    {
     "name": "stdout",
     "output_type": "stream",
     "text": [
      "1\n"
     ]
    },
    {
     "data": {
      "text/html": [
       "<div>\n",
       "<style scoped>\n",
       "    .dataframe tbody tr th:only-of-type {\n",
       "        vertical-align: middle;\n",
       "    }\n",
       "\n",
       "    .dataframe tbody tr th {\n",
       "        vertical-align: top;\n",
       "    }\n",
       "\n",
       "    .dataframe thead th {\n",
       "        text-align: right;\n",
       "    }\n",
       "</style>\n",
       "<table border=\"1\" class=\"dataframe\">\n",
       "  <thead>\n",
       "    <tr style=\"text-align: right;\">\n",
       "      <th></th>\n",
       "      <th>City_ID</th>\n",
       "      <th>City</th>\n",
       "      <th>Lat</th>\n",
       "      <th>Lng</th>\n",
       "      <th>Max Temp</th>\n",
       "      <th>Humidity</th>\n",
       "      <th>Cloudiness</th>\n",
       "      <th>Wind Speed</th>\n",
       "      <th>Country</th>\n",
       "      <th>Date</th>\n",
       "    </tr>\n",
       "  </thead>\n",
       "  <tbody>\n",
       "    <tr>\n",
       "      <th>61</th>\n",
       "      <td>61</td>\n",
       "      <td>antonio enes</td>\n",
       "      <td>-16.2325</td>\n",
       "      <td>39.9086</td>\n",
       "      <td>76.57</td>\n",
       "      <td>74</td>\n",
       "      <td>0</td>\n",
       "      <td>3.38</td>\n",
       "      <td>MZ</td>\n",
       "      <td>1701643109</td>\n",
       "    </tr>\n",
       "  </tbody>\n",
       "</table>\n",
       "</div>"
      ],
      "text/plain": [
       "    City_ID          City      Lat      Lng  Max Temp  Humidity  Cloudiness  \\\n",
       "61       61  antonio enes -16.2325  39.9086     76.57        74           0   \n",
       "\n",
       "    Wind Speed Country        Date  \n",
       "61        3.38      MZ  1701643109  "
      ]
     },
     "execution_count": 10,
     "metadata": {},
     "output_type": "execute_result"
    }
   ],
   "source": [
    "# Narrow down cities that fit criteria and drop any results with null values\n",
    "# max temp 27 - 80.6F\n",
    "# min temp 21 c - 69.8F\n",
    "# wind < 4.5\n",
    "# cloudiness =0\n",
    "\n",
    "idealcityDF = city_data_df.loc[\n",
    "    (city_data_df[\"Max Temp\"] > 69.8) & (city_data_df[\"Max Temp\"] < 80.6)\\\n",
    "    & (city_data_df[\"Wind Speed\"] < 4.5) \\\n",
    "    & (city_data_df[\"Cloudiness\"] == 0)\n",
    "]\n",
    "\n",
    "# Drop any rows with null values\n",
    "idealcityDF = idealcityDF.dropna()\n",
    "\n",
    "# Display sample data\n",
    "print(len(idealcityDF))\n",
    "idealcityDF.head()"
   ]
  },
  {
   "cell_type": "markdown",
   "metadata": {},
   "source": [
    "### Step 3: Create a new DataFrame called `hotel_df`."
   ]
  },
  {
   "cell_type": "code",
   "execution_count": 11,
   "metadata": {},
   "outputs": [
    {
     "data": {
      "text/html": [
       "<div>\n",
       "<style scoped>\n",
       "    .dataframe tbody tr th:only-of-type {\n",
       "        vertical-align: middle;\n",
       "    }\n",
       "\n",
       "    .dataframe tbody tr th {\n",
       "        vertical-align: top;\n",
       "    }\n",
       "\n",
       "    .dataframe thead th {\n",
       "        text-align: right;\n",
       "    }\n",
       "</style>\n",
       "<table border=\"1\" class=\"dataframe\">\n",
       "  <thead>\n",
       "    <tr style=\"text-align: right;\">\n",
       "      <th></th>\n",
       "      <th>City</th>\n",
       "      <th>Country</th>\n",
       "      <th>Lat</th>\n",
       "      <th>Lng</th>\n",
       "      <th>Humidity</th>\n",
       "      <th>Hotel Name</th>\n",
       "    </tr>\n",
       "  </thead>\n",
       "  <tbody>\n",
       "    <tr>\n",
       "      <th>61</th>\n",
       "      <td>antonio enes</td>\n",
       "      <td>MZ</td>\n",
       "      <td>-16.2325</td>\n",
       "      <td>39.9086</td>\n",
       "      <td>74</td>\n",
       "      <td></td>\n",
       "    </tr>\n",
       "  </tbody>\n",
       "</table>\n",
       "</div>"
      ],
      "text/plain": [
       "            City Country      Lat      Lng  Humidity Hotel Name\n",
       "61  antonio enes      MZ -16.2325  39.9086        74           "
      ]
     },
     "execution_count": 11,
     "metadata": {},
     "output_type": "execute_result"
    }
   ],
   "source": [
    "# Use the Pandas copy function to create DataFrame called hotel_df to store the city, country, coordinates, and humidity\n",
    "hotel_df = idealcityDF[[\"City\", \"Country\", \"Lat\", \"Lng\", \"Humidity\"]].copy()\n",
    "\n",
    "# Add an empty column, \"Hotel Name,\" to the DataFrame so you can store the hotel found using the Geoapify API\n",
    "hotel_df[\"Hotel Name\"] = \"\"\n",
    "\n",
    "# Display sample data\n",
    "hotel_df"
   ]
  },
  {
   "cell_type": "markdown",
   "metadata": {},
   "source": [
    "### Step 4: For each city, use the Geoapify API to find the first hotel located within 10,000 metres of your coordinates."
   ]
  },
  {
   "cell_type": "code",
   "execution_count": 16,
   "metadata": {},
   "outputs": [
    {
     "name": "stdout",
     "output_type": "stream",
     "text": [
      "Starting hotel search\n",
      "antonio enes - nearest hotel: No hotel found\n"
     ]
    },
    {
     "data": {
      "text/html": [
       "<div>\n",
       "<style scoped>\n",
       "    .dataframe tbody tr th:only-of-type {\n",
       "        vertical-align: middle;\n",
       "    }\n",
       "\n",
       "    .dataframe tbody tr th {\n",
       "        vertical-align: top;\n",
       "    }\n",
       "\n",
       "    .dataframe thead th {\n",
       "        text-align: right;\n",
       "    }\n",
       "</style>\n",
       "<table border=\"1\" class=\"dataframe\">\n",
       "  <thead>\n",
       "    <tr style=\"text-align: right;\">\n",
       "      <th></th>\n",
       "      <th>City</th>\n",
       "      <th>Country</th>\n",
       "      <th>Lat</th>\n",
       "      <th>Lng</th>\n",
       "      <th>Humidity</th>\n",
       "      <th>Hotel Name</th>\n",
       "    </tr>\n",
       "  </thead>\n",
       "  <tbody>\n",
       "    <tr>\n",
       "      <th>61</th>\n",
       "      <td>antonio enes</td>\n",
       "      <td>MZ</td>\n",
       "      <td>-16.2325</td>\n",
       "      <td>39.9086</td>\n",
       "      <td>74</td>\n",
       "      <td>No hotel found</td>\n",
       "    </tr>\n",
       "  </tbody>\n",
       "</table>\n",
       "</div>"
      ],
      "text/plain": [
       "            City Country      Lat      Lng  Humidity      Hotel Name\n",
       "61  antonio enes      MZ -16.2325  39.9086        74  No hotel found"
      ]
     },
     "execution_count": 16,
     "metadata": {},
     "output_type": "execute_result"
    }
   ],
   "source": [
    "# Set parameters to search for a hotel\n",
    "radius = 10000\n",
    "params = {\n",
    "    \"categories\": \"accomodation.hotel\",\n",
    "    \"api\": geoapify_key,\n",
    "    \"limit\": 1\n",
    "}\n",
    "\n",
    "# Print a message to follow up the hotel search\n",
    "print(\"Starting hotel search\")\n",
    "\n",
    "# Iterate through the hotel_df DataFrame\n",
    "for index, row in hotel_df.iterrows():\n",
    "    # get latitude, longitude from the DataFrame\n",
    "    latitude = row[\"Lat\"]\n",
    "    longitude = row[\"Lng\"]\n",
    "    \n",
    "    # Add filter and bias parameters with the current city's latitude and longitude to the params dictionary\n",
    "    params[\"filter\"] = f\"circle:{longitude},{latitude},{radius}\"\n",
    "    params[\"bias\"] = f\"proximity:{longitude},{latitude}\"\n",
    "    \n",
    "    # Set base URL\n",
    "    base_url = \"https://api.geoapify.com/v2/places\"\n",
    "\n",
    "\n",
    "    # Make and API request using the params dictionaty\n",
    "    name_address = requests.get(base_url, params=params)\n",
    "    \n",
    "    # Convert the API response to JSON format\n",
    "    name_address = name_address.json()\n",
    "    \n",
    "    # Grab the first hotel from the results and store the name in the hotel_df DataFrame\n",
    "    try:\n",
    "        hotel_df.loc[index, \"Hotel Name\"] = name_address[\"features\"][0][\"properties\"][\"name\"]\n",
    "    except (KeyError, IndexError):\n",
    "        # If no hotel is found, set the hotel name as \"No hotel found\".\n",
    "        hotel_df.loc[index, \"Hotel Name\"] = \"No hotel found\"\n",
    "        \n",
    "    # Log the search results\n",
    "    print(f\"{hotel_df.loc[index, 'City']} - nearest hotel: {hotel_df.loc[index, 'Hotel Name']}\")\n",
    "\n",
    "# Display sample data\n",
    "hotel_df = hotel_df.loc[hotel_df[\"Hotel Name\"] != \"Not Hotel Found\"]\n",
    "hotel_df"
   ]
  },
  {
   "cell_type": "markdown",
   "metadata": {},
   "source": [
    "### Step 5: Add the hotel name and the country as additional information in the hover message for each city in the map."
   ]
  },
  {
   "cell_type": "code",
   "execution_count": 7,
   "metadata": {},
   "outputs": [
    {
     "data": {},
     "metadata": {},
     "output_type": "display_data"
    },
    {
     "data": {
      "application/vnd.holoviews_exec.v0+json": "",
      "text/html": [
       "<div id='1139'>\n",
       "  <div class=\"bk-root\" id=\"7b5a7bdc-70f8-4d0f-98b5-94088c2a4292\" data-root-id=\"1139\"></div>\n",
       "</div>\n",
       "<script type=\"application/javascript\">(function(root) {\n",
       "  function embed_document(root) {\n",
       "    var docs_json = {\"c8f53044-6bb6-451a-8ec5-6a7e93149cf2\":{\"defs\":[{\"extends\":null,\"module\":null,\"name\":\"ReactiveHTML1\",\"overrides\":[],\"properties\":[]},{\"extends\":null,\"module\":null,\"name\":\"FlexBox1\",\"overrides\":[],\"properties\":[{\"default\":\"flex-start\",\"kind\":null,\"name\":\"align_content\"},{\"default\":\"flex-start\",\"kind\":null,\"name\":\"align_items\"},{\"default\":\"row\",\"kind\":null,\"name\":\"flex_direction\"},{\"default\":\"wrap\",\"kind\":null,\"name\":\"flex_wrap\"},{\"default\":\"flex-start\",\"kind\":null,\"name\":\"justify_content\"}]},{\"extends\":null,\"module\":null,\"name\":\"GridStack1\",\"overrides\":[],\"properties\":[{\"default\":\"warn\",\"kind\":null,\"name\":\"mode\"},{\"default\":null,\"kind\":null,\"name\":\"ncols\"},{\"default\":null,\"kind\":null,\"name\":\"nrows\"},{\"default\":true,\"kind\":null,\"name\":\"allow_resize\"},{\"default\":true,\"kind\":null,\"name\":\"allow_drag\"},{\"default\":[],\"kind\":null,\"name\":\"state\"}]},{\"extends\":null,\"module\":null,\"name\":\"click1\",\"overrides\":[],\"properties\":[{\"default\":\"\",\"kind\":null,\"name\":\"terminal_output\"},{\"default\":\"\",\"kind\":null,\"name\":\"debug_name\"},{\"default\":0,\"kind\":null,\"name\":\"clears\"}]},{\"extends\":null,\"module\":null,\"name\":\"NotificationAreaBase1\",\"overrides\":[],\"properties\":[{\"default\":\"bottom-right\",\"kind\":null,\"name\":\"position\"},{\"default\":0,\"kind\":null,\"name\":\"_clear\"}]},{\"extends\":null,\"module\":null,\"name\":\"NotificationArea1\",\"overrides\":[],\"properties\":[{\"default\":[],\"kind\":null,\"name\":\"notifications\"},{\"default\":\"bottom-right\",\"kind\":null,\"name\":\"position\"},{\"default\":0,\"kind\":null,\"name\":\"_clear\"},{\"default\":[{\"background\":\"#ffc107\",\"icon\":{\"className\":\"fas fa-exclamation-triangle\",\"color\":\"white\",\"tagName\":\"i\"},\"type\":\"warning\"},{\"background\":\"#007bff\",\"icon\":{\"className\":\"fas fa-info-circle\",\"color\":\"white\",\"tagName\":\"i\"},\"type\":\"info\"}],\"kind\":null,\"name\":\"types\"}]},{\"extends\":null,\"module\":null,\"name\":\"Notification\",\"overrides\":[],\"properties\":[{\"default\":null,\"kind\":null,\"name\":\"background\"},{\"default\":3000,\"kind\":null,\"name\":\"duration\"},{\"default\":null,\"kind\":null,\"name\":\"icon\"},{\"default\":\"\",\"kind\":null,\"name\":\"message\"},{\"default\":null,\"kind\":null,\"name\":\"notification_type\"},{\"default\":false,\"kind\":null,\"name\":\"_destroyed\"}]},{\"extends\":null,\"module\":null,\"name\":\"TemplateActions1\",\"overrides\":[],\"properties\":[{\"default\":0,\"kind\":null,\"name\":\"open_modal\"},{\"default\":0,\"kind\":null,\"name\":\"close_modal\"}]},{\"extends\":null,\"module\":null,\"name\":\"MaterialTemplateActions1\",\"overrides\":[],\"properties\":[{\"default\":0,\"kind\":null,\"name\":\"open_modal\"},{\"default\":0,\"kind\":null,\"name\":\"close_modal\"}]}],\"roots\":{\"references\":[{\"attributes\":{\"dimension\":\"lat\"},\"id\":\"1186\",\"type\":\"MercatorTicker\"},{\"attributes\":{},\"id\":\"1159\",\"type\":\"LinearScale\"},{\"attributes\":{\"data\":{\"City\":[\"kapaa\",\"hilo\",\"banda\",\"makakilo city\",\"kahului\",\"gat\",\"laguna\",\"tikaitnagar\",\"san quintin\",\"santa rosalia\",\"narwar\",\"port hedland\",\"roebourne\",\"saint-francois\",\"capoterra\",\"stolac\",\"guerrero negro\"],\"Country\":[\"US\",\"US\",\"IN\",\"US\",\"US\",\"IL\",\"US\",\"IN\",\"MX\",\"MX\",\"IN\",\"AU\",\"AU\",\"FR\",\"IT\",\"BA\",\"MX\"],\"Hotel_Name\":[\"Pono Kai Resort\",\"Dolphin Bay Hotel\",\"#acnindiafy21\",\"Embassy Suites by Hilton Oahu Kapolei\",\"Maui Seaside Hotel\",\"No hotel found\",\"Holiday Inn Express & Suites\",\"No hotel found\",\"Jardines Hotel\",\"Hotel del Real\",\"No hotel found\",\"The Esplanade Hotel\",\"No hotel found\",\"Chez Lily\",\"Rosa Hotel\",\"Bregava\",\"Plaza sal paraiso\"],\"Humidity\":[84,83,52,81,60,100,79,59,74,56,55,73,65,57,71,68,68],\"Lat\":{\"__ndarray__\":\"3KYbJfY6Q0FhSt/CBhlBQaHNdnPcZEZBfDISjYWQQkGBO86NHydCQb49c55wUkxBP4+IuVeyUUEx0BImVchHQaFOkweBNEtBuNiVoOshSEFNdwQQCo1GQb1Ugi/doEHBUNKFDTUNQsGSVg5GIE5WQTmauSWzG1JBppZPzgZQVEEdIC/c9sNIQQ==\",\"dtype\":\"float64\",\"order\":\"little\",\"shape\":[17]},\"Lng\":{\"__ndarray__\":\"LFRC3+jpcMFo6zu9+XZwwTp/l8GIDmFBw1If7GTIcMEdPZcLe5xwwcrdWoV2hk1BjwXCcgTIacFYODltelJhQT+to958nmjBeJT6+C7XZ8HSQ6aKRYpgQR/EaBW4LGlBiS/zac7eaEHyNLCO7IgaQSpSPWqgei5BpfyDwauAPkFCQkjy0DdowQ==\",\"dtype\":\"float64\",\"order\":\"little\",\"shape\":[17]},\"color\":[\"kapaa\",\"hilo\",\"banda\",\"makakilo city\",\"kahului\",\"gat\",\"laguna\",\"tikaitnagar\",\"san quintin\",\"santa rosalia\",\"narwar\",\"port hedland\",\"roebourne\",\"saint-francois\",\"capoterra\",\"stolac\",\"guerrero negro\"],\"size\":{\"__ndarray__\":\"hR4VuY5UIkAonAXAijgiQPNZYUQr2BxAAAAAAAAAIkDaTk+x3vseQAAAAAAAACRAcLgta8HGIUDbnltFfrkeQE4BN/pjNCFAST9oEeruHUDY4arvL6odQKMUrqiHFiFA0LphP+AfIEBcz1bMBzMeQAb7lU0w2iBAB+2vZg9+IEAH7a9mD34gQA==\",\"dtype\":\"float64\",\"order\":\"little\",\"shape\":[17]}},\"selected\":{\"id\":\"1217\"},\"selection_policy\":{\"id\":\"1229\"}},\"id\":\"1216\",\"type\":\"ColumnDataSource\"},{\"attributes\":{\"bottom_units\":\"screen\",\"coordinates\":null,\"fill_alpha\":0.5,\"fill_color\":\"lightgrey\",\"group\":null,\"left_units\":\"screen\",\"level\":\"overlay\",\"line_alpha\":1.0,\"line_color\":\"black\",\"line_dash\":[4,4],\"line_width\":2,\"right_units\":\"screen\",\"syncable\":false,\"top_units\":\"screen\"},\"id\":\"1174\",\"type\":\"BoxAnnotation\"},{\"attributes\":{\"coordinates\":null,\"group\":null,\"level\":\"glyph\",\"tile_source\":{\"id\":\"1210\"}},\"id\":\"1213\",\"type\":\"TileRenderer\"},{\"attributes\":{\"source\":{\"id\":\"1216\"}},\"id\":\"1225\",\"type\":\"CDSView\"},{\"attributes\":{\"margin\":[5,5,5,5],\"name\":\"HSpacer01686\",\"sizing_mode\":\"stretch_width\"},\"id\":\"1140\",\"type\":\"Spacer\"},{\"attributes\":{\"attribution\":\"&copy; <a href=\\\"https://www.openstreetmap.org/copyright\\\">OpenStreetMap</a> contributors\",\"url\":\"https://c.tile.openstreetmap.org/{Z}/{X}/{Y}.png\"},\"id\":\"1210\",\"type\":\"WMTSTileSource\"},{\"attributes\":{\"coordinates\":null,\"data_source\":{\"id\":\"1216\"},\"glyph\":{\"id\":\"1219\"},\"group\":null,\"hover_glyph\":{\"id\":\"1222\"},\"muted_glyph\":{\"id\":\"1223\"},\"nonselection_glyph\":{\"id\":\"1220\"},\"selection_glyph\":{\"id\":\"1221\"},\"view\":{\"id\":\"1225\"}},\"id\":\"1224\",\"type\":\"GlyphRenderer\"},{\"attributes\":{\"axis\":{\"id\":\"1161\"},\"coordinates\":null,\"grid_line_color\":null,\"group\":null,\"ticker\":null},\"id\":\"1164\",\"type\":\"Grid\"},{\"attributes\":{\"click_policy\":\"mute\",\"coordinates\":null,\"group\":null,\"items\":[{\"id\":\"1233\"}],\"location\":[0,0]},\"id\":\"1232\",\"type\":\"Legend\"},{\"attributes\":{\"axis_label\":\"x\",\"coordinates\":null,\"formatter\":{\"id\":\"1185\"},\"group\":null,\"major_label_policy\":{\"id\":\"1190\"},\"ticker\":{\"id\":\"1184\"}},\"id\":\"1161\",\"type\":\"LinearAxis\"},{\"attributes\":{\"fill_alpha\":{\"value\":0.5},\"fill_color\":{\"field\":\"color\",\"transform\":{\"id\":\"1215\"}},\"hatch_alpha\":{\"value\":0.5},\"hatch_color\":{\"field\":\"color\",\"transform\":{\"id\":\"1215\"}},\"line_alpha\":{\"value\":0.5},\"line_color\":{\"field\":\"color\",\"transform\":{\"id\":\"1215\"}},\"size\":{\"field\":\"size\"},\"x\":{\"field\":\"Lng\"},\"y\":{\"field\":\"Lat\"}},\"id\":\"1222\",\"type\":\"Scatter\"},{\"attributes\":{\"zoom_on_axis\":false},\"id\":\"1171\",\"type\":\"WheelZoomTool\"},{\"attributes\":{},\"id\":\"1217\",\"type\":\"Selection\"},{\"attributes\":{},\"id\":\"1229\",\"type\":\"UnionRenderers\"},{\"attributes\":{},\"id\":\"1170\",\"type\":\"PanTool\"},{\"attributes\":{},\"id\":\"1157\",\"type\":\"LinearScale\"},{\"attributes\":{\"coordinates\":null,\"group\":null,\"text_color\":\"black\",\"text_font_size\":\"12pt\"},\"id\":\"1153\",\"type\":\"Title\"},{\"attributes\":{\"code\":\"\\n        var projections = Bokeh.require(\\\"core/util/projections\\\");\\n        var x = special_vars.data_x\\n        var y = special_vars.data_y\\n        if (projections.wgs84_mercator.invert == null) {\\n          var coords = projections.wgs84_mercator.inverse([x, y])\\n        } else {\\n          var coords = projections.wgs84_mercator.invert(x, y)\\n        }\\n        return \\\"\\\" + (coords[1]).toFixed(4)\\n    \"},\"id\":\"1235\",\"type\":\"CustomJSHover\"},{\"attributes\":{\"fill_alpha\":{\"value\":0.5},\"fill_color\":{\"field\":\"color\",\"transform\":{\"id\":\"1215\"}},\"hatch_alpha\":{\"value\":0.5},\"hatch_color\":{\"field\":\"color\",\"transform\":{\"id\":\"1215\"}},\"line_alpha\":{\"value\":0.5},\"line_color\":{\"field\":\"color\",\"transform\":{\"id\":\"1215\"}},\"size\":{\"field\":\"size\"},\"x\":{\"field\":\"Lng\"},\"y\":{\"field\":\"Lat\"}},\"id\":\"1219\",\"type\":\"Scatter\"},{\"attributes\":{\"children\":[{\"id\":\"1140\"},{\"id\":\"1152\"},{\"id\":\"1242\"}],\"margin\":[0,0,0,0],\"name\":\"Row01682\",\"tags\":[\"embedded\"]},\"id\":\"1139\",\"type\":\"Row\"},{\"attributes\":{\"callback\":null,\"formatters\":{\"$x\":{\"id\":\"1234\"},\"$y\":{\"id\":\"1235\"}},\"renderers\":[{\"id\":\"1224\"}],\"tags\":[\"hv_created\"],\"tooltips\":[[\"Lng\",\"$x{custom}\"],[\"Lat\",\"$y{custom}\"],[\"City\",\"@{City}\"],[\"Humidity\",\"@{Humidity}\"],[\"Hotel Name\",\"@{Hotel_Name}\"],[\"Country\",\"@{Country}\"]]},\"id\":\"1149\",\"type\":\"HoverTool\"},{\"attributes\":{},\"id\":\"1173\",\"type\":\"ResetTool\"},{\"attributes\":{\"fill_alpha\":{\"value\":0.2},\"fill_color\":{\"field\":\"color\",\"transform\":{\"id\":\"1215\"}},\"hatch_alpha\":{\"value\":0.2},\"hatch_color\":{\"field\":\"color\",\"transform\":{\"id\":\"1215\"}},\"line_alpha\":{\"value\":0.2},\"line_color\":{\"field\":\"color\",\"transform\":{\"id\":\"1215\"}},\"size\":{\"field\":\"size\"},\"x\":{\"field\":\"Lng\"},\"y\":{\"field\":\"Lat\"}},\"id\":\"1223\",\"type\":\"Scatter\"},{\"attributes\":{\"end\":14366716.452919383,\"min_interval\":5,\"reset_end\":14366716.452919383,\"reset_start\":-10885605.506340533,\"start\":-10885605.506340533,\"tags\":[[[\"Lat\",\"Lat\",null]]]},\"id\":\"1146\",\"type\":\"Range1d\"},{\"attributes\":{},\"id\":\"1197\",\"type\":\"AllLabels\"},{\"attributes\":{\"axis_label\":\"y\",\"coordinates\":null,\"formatter\":{\"id\":\"1187\"},\"group\":null,\"major_label_policy\":{\"id\":\"1197\"},\"ticker\":{\"id\":\"1186\"}},\"id\":\"1165\",\"type\":\"LinearAxis\"},{\"attributes\":{\"end\":15408362.72915458,\"min_interval\":5,\"reset_end\":15408362.72915458,\"reset_start\":-19944888.0138093,\"start\":-19944888.0138093,\"tags\":[[[\"Lng\",\"Lng\",null]]]},\"id\":\"1145\",\"type\":\"Range1d\"},{\"attributes\":{\"below\":[{\"id\":\"1161\"}],\"center\":[{\"id\":\"1164\"},{\"id\":\"1168\"}],\"frame_height\":500,\"frame_width\":700,\"height\":null,\"left\":[{\"id\":\"1165\"}],\"margin\":[5,5,5,5],\"match_aspect\":true,\"min_border_bottom\":10,\"min_border_left\":10,\"min_border_right\":10,\"min_border_top\":10,\"renderers\":[{\"id\":\"1213\"},{\"id\":\"1224\"}],\"right\":[{\"id\":\"1232\"}],\"sizing_mode\":\"fixed\",\"title\":{\"id\":\"1153\"},\"toolbar\":{\"id\":\"1175\"},\"width\":null,\"x_range\":{\"id\":\"1145\"},\"x_scale\":{\"id\":\"1157\"},\"y_range\":{\"id\":\"1146\"},\"y_scale\":{\"id\":\"1159\"}},\"id\":\"1152\",\"subtype\":\"Figure\",\"type\":\"Plot\"},{\"attributes\":{\"axis\":{\"id\":\"1165\"},\"coordinates\":null,\"dimension\":1,\"grid_line_color\":null,\"group\":null,\"ticker\":null},\"id\":\"1168\",\"type\":\"Grid\"},{\"attributes\":{\"label\":{\"field\":\"color\"},\"renderers\":[{\"id\":\"1224\"}]},\"id\":\"1233\",\"type\":\"LegendItem\"},{\"attributes\":{},\"id\":\"1190\",\"type\":\"AllLabels\"},{\"attributes\":{\"fill_alpha\":{\"value\":0.5},\"fill_color\":{\"field\":\"color\",\"transform\":{\"id\":\"1215\"}},\"hatch_alpha\":{\"value\":0.1},\"hatch_color\":{\"field\":\"color\",\"transform\":{\"id\":\"1215\"}},\"line_alpha\":{\"value\":0.5},\"line_color\":{\"field\":\"color\",\"transform\":{\"id\":\"1215\"}},\"size\":{\"field\":\"size\"},\"x\":{\"field\":\"Lng\"},\"y\":{\"field\":\"Lat\"}},\"id\":\"1220\",\"type\":\"Scatter\"},{\"attributes\":{\"dimension\":\"lon\"},\"id\":\"1185\",\"type\":\"MercatorTickFormatter\"},{\"attributes\":{\"tools\":[{\"id\":\"1149\"},{\"id\":\"1169\"},{\"id\":\"1170\"},{\"id\":\"1171\"},{\"id\":\"1172\"},{\"id\":\"1173\"}]},\"id\":\"1175\",\"type\":\"Toolbar\"},{\"attributes\":{\"dimension\":\"lat\"},\"id\":\"1187\",\"type\":\"MercatorTickFormatter\"},{\"attributes\":{},\"id\":\"1169\",\"type\":\"SaveTool\"},{\"attributes\":{\"factors\":[\"kapaa\",\"hilo\",\"banda\",\"makakilo city\",\"kahului\",\"gat\",\"laguna\",\"tikaitnagar\",\"san quintin\",\"santa rosalia\",\"narwar\",\"port hedland\",\"roebourne\",\"saint-francois\",\"capoterra\",\"stolac\",\"guerrero negro\"],\"palette\":[\"#1f77b3\",\"#ff7e0e\",\"#2ba02b\",\"#d62628\",\"#9367bc\",\"#8c564b\",\"#e277c1\",\"#7e7e7e\",\"#bcbc21\",\"#16bdcf\",\"#3a0182\",\"#004201\",\"#0fffa8\",\"#5d003f\",\"#bcbcff\",\"#d8afa1\",\"#b80080\"]},\"id\":\"1215\",\"type\":\"CategoricalColorMapper\"},{\"attributes\":{\"code\":\"\\n        var projections = Bokeh.require(\\\"core/util/projections\\\");\\n        var x = special_vars.data_x\\n        var y = special_vars.data_y\\n        if (projections.wgs84_mercator.invert == null) {\\n          var coords = projections.wgs84_mercator.inverse([x, y])\\n        } else {\\n          var coords = projections.wgs84_mercator.invert(x, y)\\n        }\\n        return \\\"\\\" + (coords[0]).toFixed(4)\\n    \"},\"id\":\"1234\",\"type\":\"CustomJSHover\"},{\"attributes\":{\"match_aspect\":true,\"overlay\":{\"id\":\"1174\"}},\"id\":\"1172\",\"type\":\"BoxZoomTool\"},{\"attributes\":{\"margin\":[5,5,5,5],\"name\":\"HSpacer01687\",\"sizing_mode\":\"stretch_width\"},\"id\":\"1242\",\"type\":\"Spacer\"},{\"attributes\":{\"fill_alpha\":{\"value\":0.5},\"fill_color\":{\"field\":\"color\",\"transform\":{\"id\":\"1215\"}},\"hatch_alpha\":{\"value\":0.5},\"hatch_color\":{\"field\":\"color\",\"transform\":{\"id\":\"1215\"}},\"line_alpha\":{\"value\":0.5},\"line_color\":{\"field\":\"color\",\"transform\":{\"id\":\"1215\"}},\"size\":{\"field\":\"size\"},\"x\":{\"field\":\"Lng\"},\"y\":{\"field\":\"Lat\"}},\"id\":\"1221\",\"type\":\"Scatter\"},{\"attributes\":{\"dimension\":\"lon\"},\"id\":\"1184\",\"type\":\"MercatorTicker\"}],\"root_ids\":[\"1139\"]},\"title\":\"Bokeh Application\",\"version\":\"2.4.3\"}};\n",
       "    var render_items = [{\"docid\":\"c8f53044-6bb6-451a-8ec5-6a7e93149cf2\",\"root_ids\":[\"1139\"],\"roots\":{\"1139\":\"7b5a7bdc-70f8-4d0f-98b5-94088c2a4292\"}}];\n",
       "    root.Bokeh.embed.embed_items_notebook(docs_json, render_items);\n",
       "    for (const render_item of render_items) {\n",
       "      for (const root_id of render_item.root_ids) {\n",
       "\tconst id_el = document.getElementById(root_id)\n",
       "\tif (id_el.children.length && (id_el.children[0].className === 'bk-root')) {\n",
       "\t  const root_el = id_el.children[0]\n",
       "\t  root_el.id = root_el.id + '-rendered'\n",
       "\t}\n",
       "      }\n",
       "    }\n",
       "  }\n",
       "  if (root.Bokeh !== undefined && root.Bokeh.Panel !== undefined) {\n",
       "    embed_document(root);\n",
       "  } else {\n",
       "    var attempts = 0;\n",
       "    var timer = setInterval(function(root) {\n",
       "      if (root.Bokeh !== undefined && root.Bokeh.Panel !== undefined) {\n",
       "        clearInterval(timer);\n",
       "        embed_document(root);\n",
       "      } else if (document.readyState == \"complete\") {\n",
       "        attempts++;\n",
       "        if (attempts > 200) {\n",
       "          clearInterval(timer);\n",
       "          console.log(\"Bokeh: ERROR: Unable to run BokehJS code because BokehJS library is missing\");\n",
       "        }\n",
       "      }\n",
       "    }, 25, root)\n",
       "  }\n",
       "})(window);</script>"
      ],
      "text/plain": [
       ":Overlay\n",
       "   .Tiles.I  :Tiles   [x,y]\n",
       "   .Points.I :Points   [Lng,Lat]   (City,Humidity,Hotel Name,Country)"
      ]
     },
     "execution_count": 7,
     "metadata": {
      "application/vnd.holoviews_exec.v0+json": {
       "id": "1139"
      }
     },
     "output_type": "execute_result"
    }
   ],
   "source": [
    "%%capture --no-display\n",
    "\n",
    "# Configure the map plot\n",
    "# YOUR CODE HERE\n",
    "\n",
    "# Display the map\n",
    "# YOUR CODE HERE"
   ]
  },
  {
   "cell_type": "code",
   "execution_count": null,
   "metadata": {},
   "outputs": [],
   "source": []
  }
 ],
 "metadata": {
  "kernelspec": {
   "display_name": "Python 3 (ipykernel)",
   "language": "python",
   "name": "python3"
  },
  "language_info": {
   "codemirror_mode": {
    "name": "ipython",
    "version": 3
   },
   "file_extension": ".py",
   "mimetype": "text/x-python",
   "name": "python",
   "nbconvert_exporter": "python",
   "pygments_lexer": "ipython3",
   "version": "3.11.5"
  },
  "latex_envs": {
   "LaTeX_envs_menu_present": true,
   "autoclose": false,
   "autocomplete": true,
   "bibliofile": "biblio.bib",
   "cite_by": "apalike",
   "current_citInitial": 1,
   "eqLabelWithNumbers": true,
   "eqNumInitial": 1,
   "hotkeys": {
    "equation": "Ctrl-E",
    "itemize": "Ctrl-I"
   },
   "labels_anchors": false,
   "latex_user_defs": false,
   "report_style_numbering": false,
   "user_envs_cfg": false
  }
 },
 "nbformat": 4,
 "nbformat_minor": 4
}
